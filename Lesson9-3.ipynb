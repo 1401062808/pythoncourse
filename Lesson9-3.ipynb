{
 "cells": [
  {
   "cell_type": "code",
   "execution_count": 1,
   "metadata": {
    "collapsed": true
   },
   "outputs": [],
   "source": [
    "import pandas as pd\n",
    "import numpy as np\n",
    "from pandas_datareader import data, wb # 需要安装 pip install pandas_datareader\n",
    "import datetime\n",
    "import matplotlib.pyplot as plt\n",
    "import matplotlib\n",
    "matplotlib.style.use('ggplot')\n",
    "%matplotlib inline"
   ]
  },
  {
   "cell_type": "code",
   "execution_count": 4,
   "metadata": {
    "collapsed": true
   },
   "outputs": [],
   "source": [
    "sh_table = pd.read_csv('000001.SS.csv')"
   ]
  },
  {
   "cell_type": "code",
   "execution_count": 28,
   "metadata": {
    "collapsed": true
   },
   "outputs": [],
   "source": [
    "start = datetime.datetime(2010, 1, 1)\n",
    "end = datetime.datetime(2016,5,20)"
   ]
  },
  {
   "cell_type": "code",
   "execution_count": 29,
   "metadata": {
    "collapsed": true
   },
   "outputs": [],
   "source": [
    "sh = data.DataReader(\"000001.SS\", 'yahoo', start, end)"
   ]
  },
  {
   "cell_type": "code",
   "execution_count": 30,
   "metadata": {},
   "outputs": [
    {
     "data": {
      "text/html": [
       "<div>\n",
       "<table border=\"1\" class=\"dataframe\">\n",
       "  <thead>\n",
       "    <tr style=\"text-align: right;\">\n",
       "      <th></th>\n",
       "      <th>Open</th>\n",
       "      <th>High</th>\n",
       "      <th>Low</th>\n",
       "      <th>Close</th>\n",
       "      <th>Adj Close</th>\n",
       "      <th>Volume</th>\n",
       "    </tr>\n",
       "    <tr>\n",
       "      <th>Date</th>\n",
       "      <th></th>\n",
       "      <th></th>\n",
       "      <th></th>\n",
       "      <th></th>\n",
       "      <th></th>\n",
       "      <th></th>\n",
       "    </tr>\n",
       "  </thead>\n",
       "  <tbody>\n",
       "    <tr>\n",
       "      <th>2010-01-04</th>\n",
       "      <td>3289.750000</td>\n",
       "      <td>3295.279053</td>\n",
       "      <td>3243.319092</td>\n",
       "      <td>3243.760010</td>\n",
       "      <td>3243.760010</td>\n",
       "      <td>109400</td>\n",
       "    </tr>\n",
       "    <tr>\n",
       "      <th>2010-01-05</th>\n",
       "      <td>3254.468018</td>\n",
       "      <td>3290.511963</td>\n",
       "      <td>3221.461914</td>\n",
       "      <td>3282.178955</td>\n",
       "      <td>3282.178955</td>\n",
       "      <td>126200</td>\n",
       "    </tr>\n",
       "    <tr>\n",
       "      <th>2010-01-06</th>\n",
       "      <td>3277.517090</td>\n",
       "      <td>3295.867920</td>\n",
       "      <td>3253.043945</td>\n",
       "      <td>3254.215088</td>\n",
       "      <td>3254.215088</td>\n",
       "      <td>123600</td>\n",
       "    </tr>\n",
       "  </tbody>\n",
       "</table>\n",
       "</div>"
      ],
      "text/plain": [
       "                   Open         High          Low        Close    Adj Close  \\\n",
       "Date                                                                          \n",
       "2010-01-04  3289.750000  3295.279053  3243.319092  3243.760010  3243.760010   \n",
       "2010-01-05  3254.468018  3290.511963  3221.461914  3282.178955  3282.178955   \n",
       "2010-01-06  3277.517090  3295.867920  3253.043945  3254.215088  3254.215088   \n",
       "\n",
       "            Volume  \n",
       "Date                \n",
       "2010-01-04  109400  \n",
       "2010-01-05  126200  \n",
       "2010-01-06  123600  "
      ]
     },
     "execution_count": 30,
     "metadata": {},
     "output_type": "execute_result"
    }
   ],
   "source": [
    "sh.head(3) # 数据获取成功"
   ]
  },
  {
   "cell_type": "code",
   "execution_count": 31,
   "metadata": {},
   "outputs": [
    {
     "data": {
      "text/html": [
       "<div>\n",
       "<table border=\"1\" class=\"dataframe\">\n",
       "  <thead>\n",
       "    <tr style=\"text-align: right;\">\n",
       "      <th></th>\n",
       "      <th>Open</th>\n",
       "      <th>High</th>\n",
       "      <th>Low</th>\n",
       "      <th>Close</th>\n",
       "      <th>Adj Close</th>\n",
       "      <th>Volume</th>\n",
       "    </tr>\n",
       "  </thead>\n",
       "  <tbody>\n",
       "    <tr>\n",
       "      <th>count</th>\n",
       "      <td>1550.000000</td>\n",
       "      <td>1550.000000</td>\n",
       "      <td>1550.000000</td>\n",
       "      <td>1550.000000</td>\n",
       "      <td>1550.000000</td>\n",
       "      <td>1550.000000</td>\n",
       "    </tr>\n",
       "    <tr>\n",
       "      <th>mean</th>\n",
       "      <td>2659.930065</td>\n",
       "      <td>2685.134673</td>\n",
       "      <td>2634.536714</td>\n",
       "      <td>2662.850010</td>\n",
       "      <td>2662.850010</td>\n",
       "      <td>163582.903226</td>\n",
       "    </tr>\n",
       "    <tr>\n",
       "      <th>std</th>\n",
       "      <td>598.499649</td>\n",
       "      <td>611.277584</td>\n",
       "      <td>582.025113</td>\n",
       "      <td>599.169620</td>\n",
       "      <td>599.169620</td>\n",
       "      <td>143178.486481</td>\n",
       "    </tr>\n",
       "    <tr>\n",
       "      <th>min</th>\n",
       "      <td>1935.515991</td>\n",
       "      <td>1959.157959</td>\n",
       "      <td>1849.652954</td>\n",
       "      <td>1950.011963</td>\n",
       "      <td>1950.011963</td>\n",
       "      <td>0.000000</td>\n",
       "    </tr>\n",
       "    <tr>\n",
       "      <th>25%</th>\n",
       "      <td>2198.475098</td>\n",
       "      <td>2218.034607</td>\n",
       "      <td>2183.512817</td>\n",
       "      <td>2198.712891</td>\n",
       "      <td>2198.712891</td>\n",
       "      <td>78725.000000</td>\n",
       "    </tr>\n",
       "    <tr>\n",
       "      <th>50%</th>\n",
       "      <td>2483.253418</td>\n",
       "      <td>2507.597412</td>\n",
       "      <td>2459.354004</td>\n",
       "      <td>2483.584961</td>\n",
       "      <td>2483.584961</td>\n",
       "      <td>108650.000000</td>\n",
       "    </tr>\n",
       "    <tr>\n",
       "      <th>75%</th>\n",
       "      <td>2979.834473</td>\n",
       "      <td>3002.205322</td>\n",
       "      <td>2946.201538</td>\n",
       "      <td>2978.579712</td>\n",
       "      <td>2978.579712</td>\n",
       "      <td>182675.000000</td>\n",
       "    </tr>\n",
       "    <tr>\n",
       "      <th>max</th>\n",
       "      <td>5174.417969</td>\n",
       "      <td>5178.190918</td>\n",
       "      <td>5103.400879</td>\n",
       "      <td>5166.350098</td>\n",
       "      <td>5166.350098</td>\n",
       "      <td>857100.000000</td>\n",
       "    </tr>\n",
       "  </tbody>\n",
       "</table>\n",
       "</div>"
      ],
      "text/plain": [
       "              Open         High          Low        Close    Adj Close  \\\n",
       "count  1550.000000  1550.000000  1550.000000  1550.000000  1550.000000   \n",
       "mean   2659.930065  2685.134673  2634.536714  2662.850010  2662.850010   \n",
       "std     598.499649   611.277584   582.025113   599.169620   599.169620   \n",
       "min    1935.515991  1959.157959  1849.652954  1950.011963  1950.011963   \n",
       "25%    2198.475098  2218.034607  2183.512817  2198.712891  2198.712891   \n",
       "50%    2483.253418  2507.597412  2459.354004  2483.584961  2483.584961   \n",
       "75%    2979.834473  3002.205322  2946.201538  2978.579712  2978.579712   \n",
       "max    5174.417969  5178.190918  5103.400879  5166.350098  5166.350098   \n",
       "\n",
       "              Volume  \n",
       "count    1550.000000  \n",
       "mean   163582.903226  \n",
       "std    143178.486481  \n",
       "min         0.000000  \n",
       "25%     78725.000000  \n",
       "50%    108650.000000  \n",
       "75%    182675.000000  \n",
       "max    857100.000000  "
      ]
     },
     "execution_count": 31,
     "metadata": {},
     "output_type": "execute_result"
    }
   ],
   "source": [
    "sh.describe() # 数据整体概览"
   ]
  },
  {
   "cell_type": "code",
   "execution_count": 32,
   "metadata": {},
   "outputs": [
    {
     "data": {
      "image/png": "[encoded data removed]",
      "text/plain": [
       "<matplotlib.figure.Figure at 0x104426750>"
      ]
     },
     "metadata": {},
     "output_type": "display_data"
    }
   ],
   "source": [
    "sh['Close'].plot();"
   ]
  },
  {
   "cell_type": "code",
   "execution_count": 33,
   "metadata": {
    "collapsed": true
   },
   "outputs": [],
   "source": [
    "sh = sh.drop('Volume',axis=1)"
   ]
  },
  {
   "cell_type": "code",
   "execution_count": 34,
   "metadata": {},
   "outputs": [
    {
     "data": {
      "text/html": [
       "<div>\n",
       "<table border=\"1\" class=\"dataframe\">\n",
       "  <thead>\n",
       "    <tr style=\"text-align: right;\">\n",
       "      <th></th>\n",
       "      <th>Open</th>\n",
       "      <th>High</th>\n",
       "      <th>Low</th>\n",
       "      <th>Close</th>\n",
       "      <th>Adj Close</th>\n",
       "    </tr>\n",
       "    <tr>\n",
       "      <th>Date</th>\n",
       "      <th></th>\n",
       "      <th></th>\n",
       "      <th></th>\n",
       "      <th></th>\n",
       "      <th></th>\n",
       "    </tr>\n",
       "  </thead>\n",
       "  <tbody>\n",
       "    <tr>\n",
       "      <th>2010-01-04</th>\n",
       "      <td>3289.750000</td>\n",
       "      <td>3295.279053</td>\n",
       "      <td>3243.319092</td>\n",
       "      <td>3243.760010</td>\n",
       "      <td>3243.760010</td>\n",
       "    </tr>\n",
       "    <tr>\n",
       "      <th>2010-01-05</th>\n",
       "      <td>3254.468018</td>\n",
       "      <td>3290.511963</td>\n",
       "      <td>3221.461914</td>\n",
       "      <td>3282.178955</td>\n",
       "      <td>3282.178955</td>\n",
       "    </tr>\n",
       "  </tbody>\n",
       "</table>\n",
       "</div>"
      ],
      "text/plain": [
       "                   Open         High          Low        Close    Adj Close\n",
       "Date                                                                       \n",
       "2010-01-04  3289.750000  3295.279053  3243.319092  3243.760010  3243.760010\n",
       "2010-01-05  3254.468018  3290.511963  3221.461914  3282.178955  3282.178955"
      ]
     },
     "execution_count": 34,
     "metadata": {},
     "output_type": "execute_result"
    }
   ],
   "source": [
    "sh.head(2) # Volume列消失了"
   ]
  },
  {
   "cell_type": "code",
   "execution_count": 35,
   "metadata": {},
   "outputs": [
    {
     "data": {
      "text/html": [
       "<div>\n",
       "<table border=\"1\" class=\"dataframe\">\n",
       "  <thead>\n",
       "    <tr style=\"text-align: right;\">\n",
       "      <th></th>\n",
       "      <th>Open</th>\n",
       "      <th>High</th>\n",
       "      <th>Low</th>\n",
       "      <th>Close</th>\n",
       "      <th>Adj Close</th>\n",
       "    </tr>\n",
       "    <tr>\n",
       "      <th>Date</th>\n",
       "      <th></th>\n",
       "      <th></th>\n",
       "      <th></th>\n",
       "      <th></th>\n",
       "      <th></th>\n",
       "    </tr>\n",
       "  </thead>\n",
       "  <tbody>\n",
       "    <tr>\n",
       "      <th>2010-01-04</th>\n",
       "      <td>False</td>\n",
       "      <td>False</td>\n",
       "      <td>False</td>\n",
       "      <td>False</td>\n",
       "      <td>False</td>\n",
       "    </tr>\n",
       "    <tr>\n",
       "      <th>2010-01-05</th>\n",
       "      <td>False</td>\n",
       "      <td>False</td>\n",
       "      <td>False</td>\n",
       "      <td>False</td>\n",
       "      <td>False</td>\n",
       "    </tr>\n",
       "    <tr>\n",
       "      <th>2010-01-06</th>\n",
       "      <td>False</td>\n",
       "      <td>False</td>\n",
       "      <td>False</td>\n",
       "      <td>False</td>\n",
       "      <td>False</td>\n",
       "    </tr>\n",
       "    <tr>\n",
       "      <th>2010-01-07</th>\n",
       "      <td>False</td>\n",
       "      <td>False</td>\n",
       "      <td>False</td>\n",
       "      <td>False</td>\n",
       "      <td>False</td>\n",
       "    </tr>\n",
       "    <tr>\n",
       "      <th>2010-01-08</th>\n",
       "      <td>False</td>\n",
       "      <td>False</td>\n",
       "      <td>False</td>\n",
       "      <td>False</td>\n",
       "      <td>False</td>\n",
       "    </tr>\n",
       "  </tbody>\n",
       "</table>\n",
       "</div>"
      ],
      "text/plain": [
       "             Open   High    Low  Close Adj Close\n",
       "Date                                            \n",
       "2010-01-04  False  False  False  False     False\n",
       "2010-01-05  False  False  False  False     False\n",
       "2010-01-06  False  False  False  False     False\n",
       "2010-01-07  False  False  False  False     False\n",
       "2010-01-08  False  False  False  False     False"
      ]
     },
     "execution_count": 35,
     "metadata": {},
     "output_type": "execute_result"
    }
   ],
   "source": [
    "pd.isnull(sh).head() # or sh.isnull()"
   ]
  },
  {
   "cell_type": "code",
   "execution_count": 36,
   "metadata": {},
   "outputs": [
    {
     "data": {
      "text/plain": [
       "False"
      ]
     },
     "execution_count": 36,
     "metadata": {},
     "output_type": "execute_result"
    }
   ],
   "source": [
    "sh.isnull().values.any()"
   ]
  },
  {
   "cell_type": "code",
   "execution_count": 37,
   "metadata": {},
   "outputs": [
    {
     "data": {
      "text/plain": [
       "0"
      ]
     },
     "execution_count": 37,
     "metadata": {},
     "output_type": "execute_result"
    }
   ],
   "source": [
    "sh.isnull().values.sum()"
   ]
  },
  {
   "cell_type": "code",
   "execution_count": 38,
   "metadata": {
    "collapsed": true
   },
   "outputs": [],
   "source": [
    "change = sh.Close.diff()\n",
    "change.fillna(change.mean(),inplace=True)\n",
    "sh['Change'] = change"
   ]
  },
  {
   "cell_type": "code",
   "execution_count": 39,
   "metadata": {},
   "outputs": [
    {
     "data": {
      "text/html": [
       "<div>\n",
       "<table border=\"1\" class=\"dataframe\">\n",
       "  <thead>\n",
       "    <tr style=\"text-align: right;\">\n",
       "      <th></th>\n",
       "      <th>Open</th>\n",
       "      <th>High</th>\n",
       "      <th>Low</th>\n",
       "      <th>Close</th>\n",
       "      <th>Adj Close</th>\n",
       "      <th>Change</th>\n",
       "      <th>pct_change</th>\n",
       "    </tr>\n",
       "    <tr>\n",
       "      <th>Date</th>\n",
       "      <th></th>\n",
       "      <th></th>\n",
       "      <th></th>\n",
       "      <th></th>\n",
       "      <th></th>\n",
       "      <th></th>\n",
       "      <th></th>\n",
       "    </tr>\n",
       "  </thead>\n",
       "  <tbody>\n",
       "    <tr>\n",
       "      <th>2010-01-11</th>\n",
       "      <td>3301.611084</td>\n",
       "      <td>3306.750000</td>\n",
       "      <td>3197.327881</td>\n",
       "      <td>3212.750000</td>\n",
       "      <td>3212.750000</td>\n",
       "      <td>16.752930</td>\n",
       "      <td>4.200850</td>\n",
       "    </tr>\n",
       "    <tr>\n",
       "      <th>2010-01-12</th>\n",
       "      <td>3205.705078</td>\n",
       "      <td>3275.201904</td>\n",
       "      <td>3180.084961</td>\n",
       "      <td>3273.966064</td>\n",
       "      <td>3273.966064</td>\n",
       "      <td>61.216064</td>\n",
       "      <td>2.654051</td>\n",
       "    </tr>\n",
       "    <tr>\n",
       "      <th>2010-01-13</th>\n",
       "      <td>3204.976074</td>\n",
       "      <td>3232.818115</td>\n",
       "      <td>3165.485107</td>\n",
       "      <td>3172.657959</td>\n",
       "      <td>3172.657959</td>\n",
       "      <td>-101.308105</td>\n",
       "      <td>-2.654927</td>\n",
       "    </tr>\n",
       "    <tr>\n",
       "      <th>2010-01-14</th>\n",
       "      <td>3183.381104</td>\n",
       "      <td>3219.016113</td>\n",
       "      <td>3165.594971</td>\n",
       "      <td>3215.550049</td>\n",
       "      <td>3215.550049</td>\n",
       "      <td>42.892090</td>\n",
       "      <td>-1.423383</td>\n",
       "    </tr>\n",
       "  </tbody>\n",
       "</table>\n",
       "</div>"
      ],
      "text/plain": [
       "                   Open         High          Low        Close    Adj Close  \\\n",
       "Date                                                                          \n",
       "2010-01-11  3301.611084  3306.750000  3197.327881  3212.750000  3212.750000   \n",
       "2010-01-12  3205.705078  3275.201904  3180.084961  3273.966064  3273.966064   \n",
       "2010-01-13  3204.976074  3232.818115  3165.485107  3172.657959  3172.657959   \n",
       "2010-01-14  3183.381104  3219.016113  3165.594971  3215.550049  3215.550049   \n",
       "\n",
       "                Change  pct_change  \n",
       "Date                                \n",
       "2010-01-11   16.752930    4.200850  \n",
       "2010-01-12   61.216064    2.654051  \n",
       "2010-01-13 -101.308105   -2.654927  \n",
       "2010-01-14   42.892090   -1.423383  "
      ]
     },
     "execution_count": 39,
     "metadata": {},
     "output_type": "execute_result"
    }
   ],
   "source": [
    "sh['pct_change'] = sh.Change.pct_change()\n",
    "sh.iloc[5:9]"
   ]
  },
  {
   "cell_type": "code",
   "execution_count": 40,
   "metadata": {
    "collapsed": true
   },
   "outputs": [],
   "source": [
    "sh['group_index'] = sh.index.map(lambda x: 100*x.year + x.month)"
   ]
  },
  {
   "cell_type": "code",
   "execution_count": 18,
   "metadata": {},
   "outputs": [
    {
     "data": {
      "text/html": [
       "<div>\n",
       "<table border=\"1\" class=\"dataframe\">\n",
       "  <thead>\n",
       "    <tr style=\"text-align: right;\">\n",
       "      <th></th>\n",
       "      <th>Open</th>\n",
       "      <th>High</th>\n",
       "      <th>Low</th>\n",
       "      <th>Close</th>\n",
       "      <th>Adj Close</th>\n",
       "      <th>Change</th>\n",
       "      <th>pct_change</th>\n",
       "      <th>group_index</th>\n",
       "    </tr>\n",
       "    <tr>\n",
       "      <th>Date</th>\n",
       "      <th></th>\n",
       "      <th></th>\n",
       "      <th></th>\n",
       "      <th></th>\n",
       "      <th></th>\n",
       "      <th></th>\n",
       "      <th></th>\n",
       "      <th></th>\n",
       "    </tr>\n",
       "  </thead>\n",
       "  <tbody>\n",
       "    <tr>\n",
       "      <th>2010-01-04</th>\n",
       "      <td>3289.750000</td>\n",
       "      <td>3295.279053</td>\n",
       "      <td>3243.319092</td>\n",
       "      <td>3243.760010</td>\n",
       "      <td>3243.760010</td>\n",
       "      <td>-0.270030</td>\n",
       "      <td>NaN</td>\n",
       "      <td>201001</td>\n",
       "    </tr>\n",
       "    <tr>\n",
       "      <th>2010-01-05</th>\n",
       "      <td>3254.468018</td>\n",
       "      <td>3290.511963</td>\n",
       "      <td>3221.461914</td>\n",
       "      <td>3282.178955</td>\n",
       "      <td>3282.178955</td>\n",
       "      <td>38.418945</td>\n",
       "      <td>-143.276366</td>\n",
       "      <td>201001</td>\n",
       "    </tr>\n",
       "    <tr>\n",
       "      <th>2010-01-06</th>\n",
       "      <td>3277.517090</td>\n",
       "      <td>3295.867920</td>\n",
       "      <td>3253.043945</td>\n",
       "      <td>3254.215088</td>\n",
       "      <td>3254.215088</td>\n",
       "      <td>-27.963867</td>\n",
       "      <td>-1.727867</td>\n",
       "      <td>201001</td>\n",
       "    </tr>\n",
       "    <tr>\n",
       "      <th>2010-01-07</th>\n",
       "      <td>3253.990967</td>\n",
       "      <td>3268.819092</td>\n",
       "      <td>3176.707031</td>\n",
       "      <td>3192.775879</td>\n",
       "      <td>3192.775879</td>\n",
       "      <td>-61.439209</td>\n",
       "      <td>1.197093</td>\n",
       "      <td>201001</td>\n",
       "    </tr>\n",
       "    <tr>\n",
       "      <th>2010-01-08</th>\n",
       "      <td>3177.259033</td>\n",
       "      <td>3198.919922</td>\n",
       "      <td>3149.017090</td>\n",
       "      <td>3195.997070</td>\n",
       "      <td>3195.997070</td>\n",
       "      <td>3.221191</td>\n",
       "      <td>-1.052429</td>\n",
       "      <td>201001</td>\n",
       "    </tr>\n",
       "  </tbody>\n",
       "</table>\n",
       "</div>"
      ],
      "text/plain": [
       "                   Open         High          Low        Close    Adj Close  \\\n",
       "Date                                                                          \n",
       "2010-01-04  3289.750000  3295.279053  3243.319092  3243.760010  3243.760010   \n",
       "2010-01-05  3254.468018  3290.511963  3221.461914  3282.178955  3282.178955   \n",
       "2010-01-06  3277.517090  3295.867920  3253.043945  3254.215088  3254.215088   \n",
       "2010-01-07  3253.990967  3268.819092  3176.707031  3192.775879  3192.775879   \n",
       "2010-01-08  3177.259033  3198.919922  3149.017090  3195.997070  3195.997070   \n",
       "\n",
       "               Change  pct_change  group_index  \n",
       "Date                                            \n",
       "2010-01-04  -0.270030         NaN       201001  \n",
       "2010-01-05  38.418945 -143.276366       201001  \n",
       "2010-01-06 -27.963867   -1.727867       201001  \n",
       "2010-01-07 -61.439209    1.197093       201001  \n",
       "2010-01-08   3.221191   -1.052429       201001  "
      ]
     },
     "execution_count": 18,
     "metadata": {},
     "output_type": "execute_result"
    }
   ],
   "source": [
    "sh.head()"
   ]
  },
  {
   "cell_type": "code",
   "execution_count": 41,
   "metadata": {},
   "outputs": [
    {
     "data": {
      "text/plain": [
       "DatetimeIndex(['2010-01-04', '2010-01-05', '2010-01-06', '2010-01-07',\n",
       "               '2010-01-08', '2010-01-11', '2010-01-12', '2010-01-13',\n",
       "               '2010-01-14', '2010-01-15',\n",
       "               ...\n",
       "               '2016-05-09', '2016-05-10', '2016-05-11', '2016-05-12',\n",
       "               '2016-05-13', '2016-05-16', '2016-05-17', '2016-05-18',\n",
       "               '2016-05-19', '2016-05-20'],\n",
       "              dtype='datetime64[ns]', name=u'Date', length=1550, freq=None)"
      ]
     },
     "execution_count": 41,
     "metadata": {},
     "output_type": "execute_result"
    }
   ],
   "source": [
    "sh.index"
   ]
  },
  {
   "cell_type": "code",
   "execution_count": 42,
   "metadata": {},
   "outputs": [
    {
     "data": {
      "image/png": "[encoded data removed]",
      "text/plain": [
       "<matplotlib.figure.Figure at 0x10ac85790>"
      ]
     },
     "metadata": {},
     "output_type": "display_data"
    }
   ],
   "source": [
    "sh[['Open']].plot();\n",
    "plt.show()"
   ]
  },
  {
   "cell_type": "code",
   "execution_count": null,
   "metadata": {
    "collapsed": true
   },
   "outputs": [],
   "source": []
  }
 ],
 "metadata": {
  "kernelspec": {
   "display_name": "Python 2",
   "language": "python",
   "name": "python2"
  },
  "language_info": {
   "codemirror_mode": {
    "name": "ipython",
    "version": 2
   },
   "file_extension": ".py",
   "mimetype": "text/x-python",
   "name": "python",
   "nbconvert_exporter": "python",
   "pygments_lexer": "ipython2",
   "version": "2.7.13"
  }
 },
 "nbformat": 4,
 "nbformat_minor": 2
}
