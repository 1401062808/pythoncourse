{
 "cells": [
  {
   "cell_type": "markdown",
   "metadata": {
    "collapsed": true
   },
   "source": [
    "# Echo Server"
   ]
  },
  {
   "cell_type": "code",
   "execution_count": 1,
   "metadata": {},
   "outputs": [
    {
     "name": "stdout",
     "output_type": "stream",
     "text": [
      "Starting up echo server on localhost port 9999\n",
      "Waiting to receive message from client\n",
      "Data: Test message. This will be echoed1111.\n",
      "Send Test message. This will be echoed1111. bytes back to ('127.0.0.1', 56795)\n",
      "Waiting to receive message from client\n",
      "Data: Test message. This will be echoed1111.\n",
      "Send Test message. This will be echoed1111. bytes back to ('127.0.0.1', 56806)\n",
      "Waiting to receive message from client\n",
      "Data: bye\n",
      "Send bye bytes back to ('127.0.0.1', 56821)\n",
      "echo server stop\n"
     ]
    }
   ],
   "source": [
    "import socket\n",
    "import sys\n",
    "host = 'localhost'\n",
    "backlog = 50\n",
    "def echo_server(port):\n",
    "    \"\"\"simple echo server\"\"\"\n",
    "    # Create a TCP socket\n",
    "    sock = socket.socket(socket.AF_INET, socket.SOCK_STREAM)\n",
    "    # Enable reuse address/port\n",
    "    sock.setsockopt(socket.SOL_SOCKET, socket.SO_REUSEADDR, 1)\n",
    "    # Bind the socket to the port\n",
    "    server_address = (host, port)\n",
    "    print \"Starting up echo server on %s port %s\" % server_address\n",
    "    sock.bind(server_address)\n",
    "    # Listen to clients, backlog argument specifies the max no. of queued connections\n",
    "    sock.listen(backlog)\n",
    "\n",
    "    while True:\n",
    "        print \"Waiting to receive message from client\"\n",
    "        client, address = sock.accept()\n",
    "        data = client.recv(2048)\n",
    "        if data:\n",
    "            print \"Data: %s\" % data\n",
    "            client.send(data)\n",
    "            print \"Send %s bytes back to %s\" % (data, address)\n",
    "            if data == 'bye':\n",
    "                print \"echo server stop\"\n",
    "                break\n",
    "        # End connection\n",
    "        client.close()\n",
    "echo_server(9999)"
   ]
  },
  {
   "cell_type": "markdown",
   "metadata": {
    "collapsed": true
   },
   "source": [
    "## File Transfer"
   ]
  },
  {
   "cell_type": "code",
   "execution_count": 2,
   "metadata": {},
   "outputs": [
    {
     "name": "stdout",
     "output_type": "stream",
     "text": [
      "Starting up file server on localhost port 9999\n",
      "Waiting to receive file from client\n",
      "received file\n",
      "service closed\n"
     ]
    }
   ],
   "source": [
    "import socket\n",
    "import sys\n",
    "host = 'localhost'\n",
    "backlog = 50\n",
    "def file_server(port):\n",
    "    sock = socket.socket(socket.AF_INET, socket.SOCK_STREAM)\n",
    "    server_address = (host, port)\n",
    "    print \"Starting up file server on %s port %s\" % server_address\n",
    "    sock.bind(server_address)\n",
    "    sock.listen(backlog)\n",
    "    while True:\n",
    "        print \"Waiting to receive file from client\"\n",
    "        client, address = sock.accept()\n",
    "        data = client.recv(2048)\n",
    "        if data:\n",
    "            print 'received file'\n",
    "            with open('ft_test_server.txt', 'w') as fp:\n",
    "                fp.write(data)\n",
    "            break\n",
    "        # End connection\n",
    "        client.close()\n",
    "    print \"service closed\"\n",
    "file_server(9999)"
   ]
  },
  {
   "cell_type": "markdown",
   "metadata": {
    "collapsed": true
   },
   "source": [
    "# UDP Server"
   ]
  },
  {
   "cell_type": "code",
   "execution_count": 1,
   "metadata": {},
   "outputs": [
    {
     "name": "stdout",
     "output_type": "stream",
     "text": [
      "received: a from ('127.0.0.1', 61823)\n",
      "received: b from ('127.0.0.1', 61823)\n",
      "received: fsdfsafd from ('127.0.0.1', 61823)\n",
      "received: exit from ('127.0.0.1', 61823)\n",
      "exiting server\n"
     ]
    }
   ],
   "source": [
    "import socket  \n",
    "  \n",
    "address = ('127.0.0.1', 31500)  \n",
    "s = socket.socket(socket.AF_INET, socket.SOCK_DGRAM)  \n",
    "s.bind(address)  \n",
    "  \n",
    "while True:  \n",
    "    data, addr = s.recvfrom(2048)  \n",
    "    if not data:  \n",
    "        print \"client has exist\"  \n",
    "        break\n",
    "    print \"received:\", data, \"from\", addr\n",
    "    if data:\n",
    "        if data == 'exit':\n",
    "            print 'exiting server'\n",
    "            break\n",
    "  \n",
    "s.close()  "
   ]
  },
  {
   "cell_type": "markdown",
   "metadata": {},
   "source": [
    "## FTP Server"
   ]
  },
  {
   "cell_type": "code",
   "execution_count": null,
   "metadata": {},
   "outputs": [],
   "source": [
    "import os\n",
    "from pyftpdlib.authorizers import DummyAuthorizer  \n",
    "from pyftpdlib.handlers import FTPHandler  \n",
    "from pyftpdlib.servers import FTPServer  \n",
    "  \n",
    "def ftp_server():  \n",
    "    # Instantiate a dummy authorizer for managing 'virtual' users  \n",
    "    authorizer = DummyAuthorizer()  \n",
    "  \n",
    "    # Define a new user having full r/w permissions and a read-only  \n",
    "    # anonymous user  \n",
    "    authorizer.add_user('user', '12345', '.', perm='elradfmwM')  \n",
    "    authorizer.add_anonymous(os.getcwd())  \n",
    "  \n",
    "    # Instantiate FTP handler class  \n",
    "    handler = FTPHandler  \n",
    "    handler.authorizer = authorizer  \n",
    "  \n",
    "    # Define a customized banner (string returned when client connects)  \n",
    "    handler.banner = \"customized based ftpd ready.\"  \n",
    "  \n",
    "    # Specify a masquerade address and the range of ports to use for  \n",
    "    # passive connections.  Decomment in case you're behind a NAT.  \n",
    "    #handler.masquerade_address = '151.25.42.11'  \n",
    "    #handler.passive_ports = range(60000, 65535)  \n",
    "  \n",
    "    # Instantiate FTP server class and listen on 0.0.0.0:2121  \n",
    "    address = ('0.0.0.0', 2121)  \n",
    "    server = FTPServer(address, handler)  \n",
    "  \n",
    "    # set a limit for connections  \n",
    "    server.max_cons = 256  \n",
    "    server.max_cons_per_ip = 5  \n",
    "  \n",
    "    # start ftp server  \n",
    "    server.serve_forever()  \n",
    "  \n",
    "ftp_server()"
   ]
  },
  {
   "cell_type": "markdown",
   "metadata": {
    "collapsed": true
   },
   "source": [
    "## XMLRPC"
   ]
  },
  {
   "cell_type": "code",
   "execution_count": null,
   "metadata": {},
   "outputs": [],
   "source": [
    "from SimpleXMLRPCServer import SimpleXMLRPCServer\n",
    "def is_even(n):\n",
    "    return n%2 == 0\n",
    "server = SimpleXMLRPCServer((\"localhost\", 8000))#确定URL和端口\n",
    "print \"Listening on port 8000...\"\n",
    "server.register_function(is_even, \"is_even\") #注册is_even函数\n",
    "server.serve_forever()#启动服务器,并使其对这个连接可用"
   ]
  },
  {
   "cell_type": "code",
   "execution_count": null,
   "metadata": {
    "collapsed": true
   },
   "outputs": [],
   "source": [
    "from SimpleXMLRPCServer import SimpleXMLRPCServer  \n",
    "global a  \n",
    "import ast  \n",
    "from cStringIO import StringIO  \n",
    "from numpy.lib import format  \n",
    "import numpy  \n",
    "  \n",
    "class T:  \n",
    "    def to_string(self,arr):  \n",
    "        f = StringIO()  \n",
    "        if type(arr)==numpy.ndarray:  \n",
    "            format.write_array(f,arr)  \n",
    "            s = f.getvalue()  \n",
    "        elif isinstance(arr,str)==False:  \n",
    "            s = str(arr)  \n",
    "        return s  \n",
    "  \n",
    "    def from_string(self,s):  \n",
    "        if s[0]!=\"[\": # converted from numpy array  \n",
    "            f = StringIO(s)  \n",
    "            arr = format.read_array(f)  \n",
    "        else:  \n",
    "            arr = ast.literal_eval(s)  \n",
    "        return arr  \n",
    "  \n",
    "    def load(self):  \n",
    "        global a  \n",
    "        a = [1 ,2, 24]  \n",
    "        return a  \n",
    "  \n",
    "    def ret_a(self):  \n",
    "        global a  \n",
    "        return a  \n",
    "          \n",
    "  \n",
    "  \n",
    "server = SimpleXMLRPCServer((\"localhost\", 8002))  \n",
    "server.register_instance(T())  \n",
    "srv = T()  \n",
    "srv.load()  \n",
    "server.serve_forever()   "
   ]
  },
  {
   "cell_type": "code",
   "execution_count": null,
   "metadata": {},
   "outputs": [
    {
     "name": "stdout",
     "output_type": "stream",
     "text": [
      "Listening on port 8000...\n"
     ]
    }
   ],
   "source": [
    "from SimpleXMLRPCServer import SimpleXMLRPCServer\n",
    "import xmlrpclib\n",
    "def logo():\n",
    "   handle = open(\"logo.jpg\",'rb')\n",
    "   return xmlrpclib.Binary(handle.read())\n",
    "   handle.close()\n",
    "server = SimpleXMLRPCServer((\"localhost\", 9999))\n",
    "print \"Listening on port 8000...\"\n",
    "server.register_function(logo, 'logo')\n",
    "server.serve_forever()"
   ]
  },
  {
   "cell_type": "code",
   "execution_count": null,
   "metadata": {
    "collapsed": true
   },
   "outputs": [],
   "source": []
  }
 ],
 "metadata": {
  "kernelspec": {
   "display_name": "Python 2",
   "language": "python",
   "name": "python2"
  },
  "language_info": {
   "codemirror_mode": {
    "name": "ipython",
    "version": 2
   },
   "file_extension": ".py",
   "mimetype": "text/x-python",
   "name": "python",
   "nbconvert_exporter": "python",
   "pygments_lexer": "ipython2",
   "version": "2.7.13"
  }
 },
 "nbformat": 4,
 "nbformat_minor": 2
}
