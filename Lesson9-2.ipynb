{
 "cells": [
  {
   "cell_type": "code",
   "execution_count": null,
   "metadata": {
    "collapsed": true
   },
   "outputs": [],
   "source": [
    "%matplotlib inline"
   ]
  },
  {
   "cell_type": "code",
   "execution_count": null,
   "metadata": {},
   "outputs": [],
   "source": [
    "import numpy as np\n",
    "from scipy.optimize import leastsq\n",
    "import pylab as pl\n",
    "\n",
    "def func(x, p):\n",
    "    \"\"\"\n",
    "    数据拟合所用的函数: A*sin(2*pi*k*x + theta)\n",
    "    \"\"\"\n",
    "    A, k, theta = p\n",
    "    return A*np.sin(2*np.pi*k*x+theta)   \n",
    "\n",
    "def residuals(p, y, x):\n",
    "    \"\"\"\n",
    "    实验数据x, y和拟合函数之间的差，p为拟合需要找到的系数\n",
    "    \"\"\"\n",
    "    return y - func(x, p)\n",
    "\n",
    "x = np.linspace(0, -2*np.pi, 100)\n",
    "A, k, theta = 10, 0.34, np.pi/6 \n",
    "y0 = func(x, [A, k, theta]) \n",
    "y1 = y0 + 2 * np.random.randn(len(x))   \n",
    "\n",
    "p0 = [7, 0.2, 0] \n",
    "plsq = leastsq(residuals, p0, args=(y1, x))\n",
    "\n",
    "print u\"真实参数:\", [A, k, theta] \n",
    "print u\"拟合参数\", plsq[0] \n",
    "\n",
    "pl.plot(x, y0, label=u\"真实数据\")\n",
    "pl.plot(x, y1, label=u\"带噪声的实验数据\")\n",
    "pl.plot(x, func(x, plsq[0]), label=u\"拟合数据\")\n",
    "pl.legend()\n",
    "pl.show()"
   ]
  },
  {
   "cell_type": "code",
   "execution_count": null,
   "metadata": {
    "collapsed": true
   },
   "outputs": [],
   "source": []
  }
 ],
 "metadata": {
  "kernelspec": {
   "display_name": "Python 2",
   "language": "python",
   "name": "python2"
  },
  "language_info": {
   "codemirror_mode": {
    "name": "ipython",
    "version": 2
   },
   "file_extension": ".py",
   "mimetype": "text/x-python",
   "name": "python",
   "nbconvert_exporter": "python",
   "pygments_lexer": "ipython2",
   "version": "2.7.13"
  }
 },
 "nbformat": 4,
 "nbformat_minor": 2
}
