{
 "cells": [
  {
   "cell_type": "markdown",
   "metadata": {},
   "source": [
    "# Python Lesson 2"
   ]
  },
  {
   "cell_type": "markdown",
   "metadata": {},
   "source": [
    "## 语句和语法"
   ]
  },
  {
   "cell_type": "code",
   "execution_count": null,
   "metadata": {
    "collapsed": true
   },
   "outputs": [],
   "source": [
    "# 括号不是必须的\n",
    "x = 2\n",
    "y = 1\n",
    "\"\"\"\n",
    "if (x > y) {\n",
    "    x = y\n",
    "}\n",
    "\"\"\"\n",
    "\n",
    "if (x > y):\n",
    "    x = y\n",
    "\n",
    "if x > y:\n",
    "    x = y "
   ]
  },
  {
   "cell_type": "code",
   "execution_count": null,
   "metadata": {},
   "outputs": [],
   "source": [
    "# 缩进的case BAD\n",
    "# if(x>y) if(x>y1) z=1; else z=2;\n",
    "#\n",
    "#\n",
    "# if(x>y)\n",
    "#     if(x>y1)\n",
    "#         z=1;\n",
    "# else\n",
    "# z=2;\n",
    "x=1\n",
    "y=2\n",
    "if x>y:\n",
    "    if x>y1:\n",
    "        z=1\n",
    "else:\n",
    "    z=2;\n",
    "z"
   ]
  },
  {
   "cell_type": "markdown",
   "metadata": {},
   "source": [
    "# 特殊"
   ]
  },
  {
   "cell_type": "code",
   "execution_count": null,
   "metadata": {},
   "outputs": [],
   "source": [
    "# 简单语句还是可以分号\n",
    "x=2;y=1;print x;"
   ]
  },
  {
   "cell_type": "code",
   "execution_count": null,
   "metadata": {},
   "outputs": [],
   "source": [
    "# 复合语句不可以。\n",
    "x=2;y=1;if x>y: print '1'"
   ]
  },
  {
   "cell_type": "code",
   "execution_count": null,
   "metadata": {},
   "outputs": [],
   "source": [
    "# 可以换行的case\n",
    "a = [1,\n",
    "     2,\n",
    "     3,4]\n",
    "a"
   ]
  },
  {
   "cell_type": "code",
   "execution_count": null,
   "metadata": {},
   "outputs": [],
   "source": [
    "a = 1\n",
    "b = 2\n",
    "c = a + \\\n",
    "b\n",
    "c"
   ]
  },
  {
   "cell_type": "markdown",
   "metadata": {},
   "source": [
    "## 赋值"
   ]
  },
  {
   "cell_type": "code",
   "execution_count": null,
   "metadata": {},
   "outputs": [],
   "source": [
    "x = 'china'\n",
    "print x"
   ]
  },
  {
   "cell_type": "code",
   "execution_count": null,
   "metadata": {},
   "outputs": [],
   "source": [
    "x, y = 'china', 'beijing'\n",
    "print x\n",
    "print y"
   ]
  },
  {
   "cell_type": "code",
   "execution_count": null,
   "metadata": {},
   "outputs": [],
   "source": [
    "[x, y] = ['china', 'beijing']\n",
    "print x, y,"
   ]
  },
  {
   "cell_type": "code",
   "execution_count": null,
   "metadata": {},
   "outputs": [],
   "source": [
    "x, y, z = ['1','2','3']\n",
    "print x,y,z"
   ]
  },
  {
   "cell_type": "code",
   "execution_count": null,
   "metadata": {
    "scrolled": true
   },
   "outputs": [],
   "source": [
    "x = y = 'china'\n",
    "print x, y,"
   ]
  },
  {
   "cell_type": "code",
   "execution_count": null,
   "metadata": {},
   "outputs": [],
   "source": [
    "x, y = ['china', 'beijing']\n",
    "print x,y"
   ]
  },
  {
   "cell_type": "code",
   "execution_count": null,
   "metadata": {
    "scrolled": true
   },
   "outputs": [],
   "source": [
    "x, y = ['china', 'beijing', 'shanghai']"
   ]
  },
  {
   "cell_type": "code",
   "execution_count": null,
   "metadata": {},
   "outputs": [],
   "source": [
    "# 高级\n",
    "x, y = 'SL'\n",
    "print x, y"
   ]
  },
  {
   "cell_type": "code",
   "execution_count": null,
   "metadata": {},
   "outputs": [],
   "source": [
    "((x, y), z) = 'SL', 'XY'\n",
    "print x, y, z"
   ]
  },
  {
   "cell_type": "code",
   "execution_count": null,
   "metadata": {},
   "outputs": [],
   "source": [
    "# 多目标赋值，共享了引用：浅拷贝\n",
    "x = y = z =2\n",
    "print id(x), id(y), id(z)"
   ]
  },
  {
   "cell_type": "code",
   "execution_count": null,
   "metadata": {},
   "outputs": [],
   "source": [
    "# 其他赋值\n",
    "a = 5\n",
    "b = 1\n",
    "a += b\n",
    "print a\n",
    "a -= b\n",
    "print a\n",
    "a *= b\n",
    "print a"
   ]
  },
  {
   "cell_type": "markdown",
   "metadata": {},
   "source": [
    "## 表达式"
   ]
  },
  {
   "cell_type": "code",
   "execution_count": null,
   "metadata": {
    "collapsed": true
   },
   "outputs": [],
   "source": [
    "def check(x, y):\n",
    "    pass"
   ]
  },
  {
   "cell_type": "code",
   "execution_count": null,
   "metadata": {
    "collapsed": true
   },
   "outputs": [],
   "source": [
    "check(1, 2)"
   ]
  },
  {
   "cell_type": "markdown",
   "metadata": {},
   "source": [
    "## 打印 Python2.x, 如果是3.x，略有不同"
   ]
  },
  {
   "cell_type": "code",
   "execution_count": null,
   "metadata": {},
   "outputs": [],
   "source": [
    "print 'welcome', 'to shenlanxueyuan'"
   ]
  },
  {
   "cell_type": "code",
   "execution_count": null,
   "metadata": {},
   "outputs": [],
   "source": [
    "print 'welcome', 'to shenlanxueyuan',"
   ]
  },
  {
   "cell_type": "code",
   "execution_count": null,
   "metadata": {},
   "outputs": [],
   "source": [
    "x = 2 \n",
    "y = 1\n",
    "print x, y,"
   ]
  },
  {
   "cell_type": "code",
   "execution_count": null,
   "metadata": {
    "collapsed": true
   },
   "outputs": [],
   "source": [
    "# 输出到文件\n",
    "print >> open('data/print_test.txt','w'), 'welcome', 'to shenlanxueyuan',"
   ]
  },
  {
   "cell_type": "markdown",
   "metadata": {},
   "source": [
    "### 打印流的重定向"
   ]
  },
  {
   "cell_type": "code",
   "execution_count": null,
   "metadata": {},
   "outputs": [],
   "source": [
    "import sys\n",
    "sys.stdout.write('welcome to shenlanxueyuan')"
   ]
  },
  {
   "cell_type": "code",
   "execution_count": null,
   "metadata": {
    "collapsed": true
   },
   "outputs": [],
   "source": [
    "import sys\n",
    "previous = sys.stdout\n",
    "sys.stdout = open('data/temp.txt', 'a')\n",
    "print 'welcome'"
   ]
  },
  {
   "cell_type": "code",
   "execution_count": null,
   "metadata": {
    "collapsed": true
   },
   "outputs": [],
   "source": [
    "import sys\n",
    "sys.stdout = open('data/temp.txt', 'a')\n",
    "print 'welcome'\n",
    "sys.stdout.close()\n",
    "sys.stdout = previous"
   ]
  },
  {
   "cell_type": "code",
   "execution_count": null,
   "metadata": {},
   "outputs": [],
   "source": [
    "print 'to shenlanxueyuan'"
   ]
  },
  {
   "cell_type": "markdown",
   "metadata": {},
   "source": [
    "### 如何写一个python3 的print"
   ]
  },
  {
   "cell_type": "code",
   "execution_count": null,
   "metadata": {},
   "outputs": [],
   "source": [
    "from __future__ import print_function\n",
    "print('x', 'y', end='+++')"
   ]
  },
  {
   "cell_type": "markdown",
   "metadata": {},
   "source": [
    "# IF 语句"
   ]
  },
  {
   "cell_type": "code",
   "execution_count": null,
   "metadata": {},
   "outputs": [],
   "source": [
    "if True:\n",
    "    print 1\n",
    "else:\n",
    "    print 0"
   ]
  },
  {
   "cell_type": "markdown",
   "metadata": {},
   "source": [
    "### 多路分支"
   ]
  },
  {
   "cell_type": "code",
   "execution_count": null,
   "metadata": {},
   "outputs": [],
   "source": [
    "x = 'china'\n",
    "if x == 'us':\n",
    "    print 1\n",
    "elif x == 'india':\n",
    "    print 2\n",
    "elif x == 'china':\n",
    "    print 3\n",
    "else:\n",
    "    print 4"
   ]
  },
  {
   "cell_type": "code",
   "execution_count": null,
   "metadata": {},
   "outputs": [],
   "source": [
    "x = 'china'\n",
    "if x == 'us':\n",
    "    print 1\n",
    "elif x == 'china':\n",
    "    print 2\n",
    "elif x == 'china':\n",
    "    print 3\n",
    "else:\n",
    "    print 4"
   ]
  },
  {
   "cell_type": "markdown",
   "metadata": {},
   "source": [
    "## 真值测试"
   ]
  },
  {
   "cell_type": "code",
   "execution_count": null,
   "metadata": {},
   "outputs": [],
   "source": [
    "x = 1 or 3\n",
    "x"
   ]
  },
  {
   "cell_type": "code",
   "execution_count": null,
   "metadata": {},
   "outputs": [],
   "source": [
    "x = None or 2\n",
    "x"
   ]
  },
  {
   "cell_type": "code",
   "execution_count": null,
   "metadata": {},
   "outputs": [],
   "source": [
    "# 短路操作\n",
    "x = [] or ()\n",
    "x"
   ]
  },
  {
   "cell_type": "code",
   "execution_count": null,
   "metadata": {},
   "outputs": [],
   "source": [
    "x = 3 and []\n",
    "x"
   ]
  },
  {
   "cell_type": "markdown",
   "metadata": {},
   "source": [
    "### 三元表达式"
   ]
  },
  {
   "cell_type": "code",
   "execution_count": null,
   "metadata": {},
   "outputs": [],
   "source": [
    "x = 1 if True else 0\n",
    "print x"
   ]
  },
  {
   "cell_type": "code",
   "execution_count": null,
   "metadata": {},
   "outputs": [],
   "source": [
    "# 对等的策略\n",
    "if True:\n",
    "    x = 1\n",
    "else:\n",
    "    x = 0\n",
    "print x"
   ]
  },
  {
   "cell_type": "code",
   "execution_count": null,
   "metadata": {},
   "outputs": [],
   "source": [
    "x = [1, 0][bool(1==1)]\n",
    "print x"
   ]
  },
  {
   "cell_type": "markdown",
   "metadata": {},
   "source": [
    "## While"
   ]
  },
  {
   "cell_type": "code",
   "execution_count": 1,
   "metadata": {},
   "outputs": [
    {
     "name": "stdout",
     "output_type": "stream",
     "text": [
      "1 2 3 4 5 0\n"
     ]
    }
   ],
   "source": [
    "i = 0\n",
    "while i < 5:\n",
    "    i += 1\n",
    "    print i,\n",
    "else:\n",
    "    print 0,"
   ]
  },
  {
   "cell_type": "code",
   "execution_count": 2,
   "metadata": {},
   "outputs": [
    {
     "name": "stdout",
     "output_type": "stream",
     "text": [
      "1 2 3 4 5\n"
     ]
    }
   ],
   "source": [
    "# 同样的结果，多种写法\n",
    "i = 0\n",
    "while True:\n",
    "    if i > 4:\n",
    "        break\n",
    "    i += 1\n",
    "    print i,"
   ]
  },
  {
   "cell_type": "code",
   "execution_count": 3,
   "metadata": {},
   "outputs": [
    {
     "name": "stdout",
     "output_type": "stream",
     "text": [
      "1 2 3 4 5\n"
     ]
    }
   ],
   "source": [
    "i = 0\n",
    "while i < 10:\n",
    "    i += 1\n",
    "    if i < 6:\n",
    "        print i,\n",
    "    else:\n",
    "        pass"
   ]
  },
  {
   "cell_type": "code",
   "execution_count": 4,
   "metadata": {},
   "outputs": [
    {
     "name": "stdout",
     "output_type": "stream",
     "text": [
      "1 2 3 4 5\n"
     ]
    }
   ],
   "source": [
    "i = 0\n",
    "while i < 10:\n",
    "    i += 1\n",
    "    if i < 6:\n",
    "        print i,\n",
    "    else:\n",
    "        continue"
   ]
  },
  {
   "cell_type": "code",
   "execution_count": null,
   "metadata": {
    "collapsed": true
   },
   "outputs": [],
   "source": []
  },
  {
   "cell_type": "markdown",
   "metadata": {},
   "source": [
    "### do ... until"
   ]
  },
  {
   "cell_type": "code",
   "execution_count": 5,
   "metadata": {},
   "outputs": [
    {
     "name": "stdout",
     "output_type": "stream",
     "text": [
      "1\n",
      "2\n",
      "3\n",
      "4\n",
      "5\n",
      "6\n"
     ]
    }
   ],
   "source": [
    "x = 0\n",
    "while True:\n",
    "    x += 1\n",
    "    print x\n",
    "    if x > 5:\n",
    "        break"
   ]
  },
  {
   "cell_type": "markdown",
   "metadata": {},
   "source": [
    "### pass  为了占位，防止语法错误。"
   ]
  },
  {
   "cell_type": "code",
   "execution_count": 6,
   "metadata": {},
   "outputs": [
    {
     "ename": "SyntaxError",
     "evalue": "unexpected EOF while parsing (<ipython-input-6-a42b25509d36>, line 1)",
     "output_type": "error",
     "traceback": [
      "\u001b[0;36m  File \u001b[0;32m\"<ipython-input-6-a42b25509d36>\"\u001b[0;36m, line \u001b[0;32m1\u001b[0m\n\u001b[0;31m    for i in range(5):\u001b[0m\n\u001b[0m                      ^\u001b[0m\n\u001b[0;31mSyntaxError\u001b[0m\u001b[0;31m:\u001b[0m unexpected EOF while parsing\n"
     ]
    }
   ],
   "source": [
    "for i in range(5):"
   ]
  },
  {
   "cell_type": "code",
   "execution_count": 7,
   "metadata": {
    "collapsed": true
   },
   "outputs": [],
   "source": [
    "for i in range(5):\n",
    "    1"
   ]
  },
  {
   "cell_type": "code",
   "execution_count": 8,
   "metadata": {
    "collapsed": true
   },
   "outputs": [],
   "source": [
    "for i in range(5):\n",
    "    pass"
   ]
  },
  {
   "cell_type": "markdown",
   "metadata": {},
   "source": [
    "### continue 再看一个例子"
   ]
  },
  {
   "cell_type": "code",
   "execution_count": 9,
   "metadata": {},
   "outputs": [
    {
     "name": "stdout",
     "output_type": "stream",
     "text": [
      "1\n",
      "3\n",
      "5\n",
      "7\n",
      "9\n"
     ]
    }
   ],
   "source": [
    "n = 0\n",
    "while n < 10:\n",
    "    n = n + 1\n",
    "    if n % 2 == 0:      # 如果n是偶数，执行continue语句\n",
    "        continue        # continue语句会直接继续下一轮循环，后续的print()语句不会执行\n",
    "    print(n)\n"
   ]
  },
  {
   "cell_type": "markdown",
   "metadata": {},
   "source": [
    "## FOR"
   ]
  },
  {
   "cell_type": "code",
   "execution_count": 10,
   "metadata": {},
   "outputs": [
    {
     "name": "stdout",
     "output_type": "stream",
     "text": [
      "x\n",
      "y\n",
      "z\n"
     ]
    }
   ],
   "source": [
    "for i in ['x','y','z']:\n",
    "    print i"
   ]
  },
  {
   "cell_type": "code",
   "execution_count": 11,
   "metadata": {},
   "outputs": [
    {
     "name": "stdout",
     "output_type": "stream",
     "text": [
      "s\n",
      "h\n",
      "e\n",
      "n\n",
      "l\n",
      "a\n",
      "n\n",
      "x\n",
      "u\n",
      "e\n",
      "y\n",
      "u\n",
      "a\n",
      "n\n"
     ]
    }
   ],
   "source": [
    "for i in 'shenlanxueyuan':\n",
    "    print i"
   ]
  },
  {
   "cell_type": "code",
   "execution_count": 12,
   "metadata": {},
   "outputs": [
    {
     "name": "stdout",
     "output_type": "stream",
     "text": [
      "1\n",
      "2\n",
      "3\n"
     ]
    }
   ],
   "source": [
    "for x in (1, 2, 3):\n",
    "    print x"
   ]
  },
  {
   "cell_type": "code",
   "execution_count": 13,
   "metadata": {},
   "outputs": [
    {
     "name": "stdout",
     "output_type": "stream",
     "text": [
      "1\n",
      "2\n"
     ]
    }
   ],
   "source": [
    "for x in {1:'key1', 2:'key2'}:\n",
    "    print x"
   ]
  },
  {
   "cell_type": "code",
   "execution_count": 14,
   "metadata": {},
   "outputs": [
    {
     "name": "stdout",
     "output_type": "stream",
     "text": [
      "(1, 'key1') (2, 'key2')\n"
     ]
    }
   ],
   "source": [
    "for x in {1:'key1', 2:'key2'}.items():\n",
    "    print x, "
   ]
  },
  {
   "cell_type": "code",
   "execution_count": 15,
   "metadata": {},
   "outputs": [
    {
     "name": "stdout",
     "output_type": "stream",
     "text": [
      "2\n",
      "3\n",
      "4\n",
      "6\n"
     ]
    }
   ],
   "source": [
    "for i in [1,2]:\n",
    "    for j in [2,3]:\n",
    "        print i*j"
   ]
  },
  {
   "cell_type": "code",
   "execution_count": 16,
   "metadata": {},
   "outputs": [
    {
     "name": "stdout",
     "output_type": "stream",
     "text": [
      "1\n",
      "3\n",
      "5\n",
      "7\n",
      "9\n"
     ]
    }
   ],
   "source": [
    "for i in range(1, 10, 2):\n",
    "    print i"
   ]
  },
  {
   "cell_type": "markdown",
   "metadata": {},
   "source": [
    "## 内置迭代器"
   ]
  },
  {
   "cell_type": "code",
   "execution_count": 17,
   "metadata": {},
   "outputs": [
    {
     "data": {
      "text/plain": [
       "True"
      ]
     },
     "execution_count": 17,
     "metadata": {},
     "output_type": "execute_result"
    }
   ],
   "source": [
    "from collections import Iterable\n",
    "isinstance([], Iterable)"
   ]
  },
  {
   "cell_type": "markdown",
   "metadata": {},
   "source": [
    "### 列表"
   ]
  },
  {
   "cell_type": "code",
   "execution_count": 18,
   "metadata": {
    "scrolled": true
   },
   "outputs": [
    {
     "name": "stdout",
     "output_type": "stream",
     "text": [
      "2 4 6 8 10 12\n"
     ]
    }
   ],
   "source": [
    "# 列表\n",
    "for i in [1,2,3,4,5,6]:\n",
    "    print i*2,"
   ]
  },
  {
   "cell_type": "markdown",
   "metadata": {},
   "source": [
    "### 字典"
   ]
  },
  {
   "cell_type": "code",
   "execution_count": 19,
   "metadata": {},
   "outputs": [
    {
     "name": "stdout",
     "output_type": "stream",
     "text": [
      "claire john\n"
     ]
    }
   ],
   "source": [
    "for item in {'john':'male','claire':'female'}:\n",
    "    print item,"
   ]
  },
  {
   "cell_type": "code",
   "execution_count": 20,
   "metadata": {},
   "outputs": [
    {
     "name": "stdout",
     "output_type": "stream",
     "text": [
      "female male\n"
     ]
    }
   ],
   "source": [
    "for item in {'john':'male','claire':'female'}.values():\n",
    "    print item,"
   ]
  },
  {
   "cell_type": "code",
   "execution_count": 21,
   "metadata": {
    "scrolled": false
   },
   "outputs": [
    {
     "name": "stdout",
     "output_type": "stream",
     "text": [
      "('claire', 'female') ('john', 'male')\n"
     ]
    }
   ],
   "source": [
    "for item in {'john':'male','claire':'female'}.items():\n",
    "    print item,"
   ]
  },
  {
   "cell_type": "markdown",
   "metadata": {},
   "source": [
    "### 迭代器方法"
   ]
  },
  {
   "cell_type": "markdown",
   "metadata": {},
   "source": [
    "### range"
   ]
  },
  {
   "cell_type": "code",
   "execution_count": 22,
   "metadata": {},
   "outputs": [
    {
     "name": "stdout",
     "output_type": "stream",
     "text": [
      "0 1 2 3 4\n"
     ]
    }
   ],
   "source": [
    "for i in range(5):\n",
    "    print i,"
   ]
  },
  {
   "cell_type": "markdown",
   "metadata": {},
   "source": [
    "### enumrate"
   ]
  },
  {
   "cell_type": "code",
   "execution_count": 23,
   "metadata": {
    "scrolled": true
   },
   "outputs": [
    {
     "name": "stdout",
     "output_type": "stream",
     "text": [
      "(0, 5) (1, 6) (2, 7) (3, 8) (4, 9)\n"
     ]
    }
   ],
   "source": [
    "for i in enumerate(range(5, 10)):\n",
    "    print i,"
   ]
  },
  {
   "cell_type": "code",
   "execution_count": 24,
   "metadata": {},
   "outputs": [
    {
     "name": "stdout",
     "output_type": "stream",
     "text": [
      "index=0 => 5\n",
      "index=1 => 6\n",
      "index=2 => 7\n",
      "index=3 => 8\n",
      "index=4 => 9\n"
     ]
    }
   ],
   "source": [
    "for index, value in enumerate(range(5, 10)):\n",
    "    print 'index=%d => %d' % (index, value)"
   ]
  },
  {
   "cell_type": "markdown",
   "metadata": {},
   "source": [
    "### map"
   ]
  },
  {
   "cell_type": "code",
   "execution_count": 25,
   "metadata": {},
   "outputs": [
    {
     "name": "stdout",
     "output_type": "stream",
     "text": [
      "['1', '2', '3']\n"
     ]
    }
   ],
   "source": [
    "x = [1, 2, 3]\n",
    "y = map(str, x)\n",
    "print y"
   ]
  },
  {
   "cell_type": "code",
   "execution_count": 26,
   "metadata": {},
   "outputs": [
    {
     "name": "stdout",
     "output_type": "stream",
     "text": [
      "[1, 2, 3]\n"
     ]
    }
   ],
   "source": [
    "x = ['1', '2', '3']\n",
    "y = map(int, x)\n",
    "print y"
   ]
  },
  {
   "cell_type": "code",
   "execution_count": 27,
   "metadata": {},
   "outputs": [
    {
     "name": "stdout",
     "output_type": "stream",
     "text": [
      "[6, 24, 60]\n"
     ]
    }
   ],
   "source": [
    "def func(a,b,c):\n",
    "    return a*b*c\n",
    "x1 = [1,2,3]\n",
    "x2 = [2,3,4]\n",
    "x3 = [3,4,5]\n",
    "x4 = map(func, x1, x2, x3)\n",
    "print x4"
   ]
  },
  {
   "cell_type": "markdown",
   "metadata": {},
   "source": [
    "### zip"
   ]
  },
  {
   "cell_type": "code",
   "execution_count": 28,
   "metadata": {},
   "outputs": [
    {
     "name": "stdout",
     "output_type": "stream",
     "text": [
      "[(1, 4), (2, 5), (3, 6)]\n"
     ]
    }
   ],
   "source": [
    "x1 = (1,2,3)\n",
    "x2 = (4,5,6)\n",
    "print zip(x1, x2)"
   ]
  },
  {
   "cell_type": "code",
   "execution_count": 29,
   "metadata": {},
   "outputs": [
    {
     "name": "stdout",
     "output_type": "stream",
     "text": [
      "[(1, 4, 7), (2, 5, 8), (3, 6, 9)]\n"
     ]
    }
   ],
   "source": [
    "x1 = (1,2,3)\n",
    "x2 = (4,5,6)\n",
    "x3 = (7,8,9)\n",
    "print zip(x1, x2, x3)"
   ]
  },
  {
   "cell_type": "code",
   "execution_count": 30,
   "metadata": {},
   "outputs": [
    {
     "name": "stdout",
     "output_type": "stream",
     "text": [
      "[(1, 4), (2, 5), (3, 6)]\n",
      "{1: 4, 2: 5, 3: 6}\n"
     ]
    }
   ],
   "source": [
    "x1 = (1,2,3)\n",
    "x2 = (4,5,6)\n",
    "print zip(x1, x2)\n",
    "\n",
    "print dict(zip(x1,x2))"
   ]
  },
  {
   "cell_type": "markdown",
   "metadata": {},
   "source": [
    "### sorted"
   ]
  },
  {
   "cell_type": "code",
   "execution_count": 31,
   "metadata": {},
   "outputs": [
    {
     "data": {
      "text/plain": [
       "[-21, -12, 5, 9, 36]"
      ]
     },
     "execution_count": 31,
     "metadata": {},
     "output_type": "execute_result"
    }
   ],
   "source": [
    "sorted([36, 5, -12, 9, -21])"
   ]
  },
  {
   "cell_type": "code",
   "execution_count": 32,
   "metadata": {},
   "outputs": [
    {
     "data": {
      "text/plain": [
       "['abc', 'cde', 'tx', 'zuy']"
      ]
     },
     "execution_count": 32,
     "metadata": {},
     "output_type": "execute_result"
    }
   ],
   "source": [
    "sorted(['cde', 'tx', 'zuy', 'abc'], key=str.lower)"
   ]
  },
  {
   "cell_type": "code",
   "execution_count": null,
   "metadata": {
    "collapsed": true
   },
   "outputs": [],
   "source": []
  },
  {
   "cell_type": "code",
   "execution_count": null,
   "metadata": {
    "collapsed": true
   },
   "outputs": [],
   "source": []
  },
  {
   "cell_type": "code",
   "execution_count": null,
   "metadata": {
    "collapsed": true
   },
   "outputs": [],
   "source": []
  },
  {
   "cell_type": "markdown",
   "metadata": {},
   "source": [
    "### 列表解析"
   ]
  },
  {
   "cell_type": "code",
   "execution_count": 33,
   "metadata": {
    "collapsed": true
   },
   "outputs": [],
   "source": [
    "D = [3, 5, 6, 8, 10]"
   ]
  },
  {
   "cell_type": "code",
   "execution_count": 34,
   "metadata": {},
   "outputs": [
    {
     "name": "stdout",
     "output_type": "stream",
     "text": [
      "[6, 10, 12, 16, 20]\n"
     ]
    }
   ],
   "source": [
    "D1 = []\n",
    "for item in D:\n",
    "    D1.append(item * 2)\n",
    "print D1"
   ]
  },
  {
   "cell_type": "code",
   "execution_count": 35,
   "metadata": {
    "scrolled": true
   },
   "outputs": [
    {
     "name": "stdout",
     "output_type": "stream",
     "text": [
      "[6, 10, 12, 16, 20]\n"
     ]
    }
   ],
   "source": [
    "D1 = [item * 2 for item in D]\n",
    "print D1"
   ]
  },
  {
   "cell_type": "markdown",
   "metadata": {},
   "source": [
    "### 迭代器方法"
   ]
  },
  {
   "cell_type": "code",
   "execution_count": 36,
   "metadata": {},
   "outputs": [
    {
     "name": "stdout",
     "output_type": "stream",
     "text": [
      "32\n",
      "3\n",
      "10\n"
     ]
    }
   ],
   "source": [
    "D = [3, 5, 6, 8, 10]\n",
    "print sum(D)\n",
    "print min(D)\n",
    "print max(D)"
   ]
  },
  {
   "cell_type": "code",
   "execution_count": 37,
   "metadata": {},
   "outputs": [
    {
     "name": "stdout",
     "output_type": "stream",
     "text": [
      "3 1 | 5 2 | 6 3 | 8 4 | 10 5 |\n"
     ]
    }
   ],
   "source": [
    "X = [3, 5, 6, 8, 10]\n",
    "Y = [1, 2, 3, 4, 5]\n",
    "for x, y in zip(X, Y):\n",
    "    print x, y, '|',"
   ]
  },
  {
   "cell_type": "markdown",
   "metadata": {},
   "source": [
    "## 文件迭代器"
   ]
  },
  {
   "cell_type": "code",
   "execution_count": 38,
   "metadata": {
    "collapsed": true
   },
   "outputs": [],
   "source": [
    "fp = open('data/example.txt')"
   ]
  },
  {
   "cell_type": "code",
   "execution_count": 39,
   "metadata": {},
   "outputs": [
    {
     "data": {
      "text/plain": [
       "'From fairest creatures we desire increase, \\n'"
      ]
     },
     "execution_count": 39,
     "metadata": {},
     "output_type": "execute_result"
    }
   ],
   "source": [
    "fp.readline()"
   ]
  },
  {
   "cell_type": "code",
   "execution_count": 40,
   "metadata": {},
   "outputs": [
    {
     "data": {
      "text/plain": [
       "\"That thereby beauty's rose might never die, \\n\""
      ]
     },
     "execution_count": 40,
     "metadata": {},
     "output_type": "execute_result"
    }
   ],
   "source": [
    "fp.readline()"
   ]
  },
  {
   "cell_type": "code",
   "execution_count": 41,
   "metadata": {},
   "outputs": [
    {
     "data": {
      "text/plain": [
       "'But as the riper should by time decease, '"
      ]
     },
     "execution_count": 41,
     "metadata": {},
     "output_type": "execute_result"
    }
   ],
   "source": [
    "fp.readline()"
   ]
  },
  {
   "cell_type": "code",
   "execution_count": 42,
   "metadata": {},
   "outputs": [
    {
     "data": {
      "text/plain": [
       "''"
      ]
     },
     "execution_count": 42,
     "metadata": {},
     "output_type": "execute_result"
    }
   ],
   "source": [
    "fp.readline()"
   ]
  },
  {
   "cell_type": "code",
   "execution_count": 43,
   "metadata": {},
   "outputs": [
    {
     "data": {
      "text/plain": [
       "''"
      ]
     },
     "execution_count": 43,
     "metadata": {},
     "output_type": "execute_result"
    }
   ],
   "source": [
    "fp.readline()"
   ]
  },
  {
   "cell_type": "code",
   "execution_count": 44,
   "metadata": {},
   "outputs": [
    {
     "name": "stdout",
     "output_type": "stream",
     "text": [
      "From fairest creatures we desire increase, \n",
      "\n",
      "That thereby beauty's rose might never die, \n",
      "\n",
      "But as the riper should by time decease, \n"
     ]
    }
   ],
   "source": [
    "fp = open('data/example.txt')\n",
    "for line in fp:\n",
    "    print line"
   ]
  },
  {
   "cell_type": "code",
   "execution_count": 45,
   "metadata": {},
   "outputs": [
    {
     "name": "stdout",
     "output_type": "stream",
     "text": [
      "['__class__', '__delattr__', '__doc__', '__enter__', '__exit__', '__format__', '__getattribute__', '__hash__', '__init__', '__iter__', '__new__', '__reduce__', '__reduce_ex__', '__repr__', '__setattr__', '__sizeof__', '__str__', '__subclasshook__', 'close', 'closed', 'encoding', 'errors', 'fileno', 'flush', 'isatty', 'mode', 'name', 'newlines', 'next', 'read', 'readinto', 'readline', 'readlines', 'seek', 'softspace', 'tell', 'truncate', 'write', 'writelines', 'xreadlines']\n"
     ]
    }
   ],
   "source": [
    "fp = open('data/example.txt')\n",
    "print dir(fp)"
   ]
  },
  {
   "cell_type": "code",
   "execution_count": null,
   "metadata": {
    "collapsed": true
   },
   "outputs": [],
   "source": []
  },
  {
   "cell_type": "markdown",
   "metadata": {},
   "source": [
    "# 文档"
   ]
  },
  {
   "cell_type": "markdown",
   "metadata": {},
   "source": [
    "## 注释"
   ]
  },
  {
   "cell_type": "code",
   "execution_count": 46,
   "metadata": {
    "collapsed": true
   },
   "outputs": [],
   "source": [
    "# print '我是单行注释'\n",
    "pass"
   ]
  },
  {
   "cell_type": "code",
   "execution_count": 47,
   "metadata": {
    "collapsed": true
   },
   "outputs": [],
   "source": [
    "# print '我是多行注释'\n",
    "# print '我是多行注释 - 1'\n",
    "# print '我是多行注释 - 2'\n",
    "pass"
   ]
  },
  {
   "cell_type": "code",
   "execution_count": 48,
   "metadata": {
    "collapsed": true
   },
   "outputs": [],
   "source": [
    "\"\"\"\n",
    "我是多行注释\n",
    "我是多行注释 - 1\n",
    "我是多行注释 - 2\n",
    "\"\"\"\n",
    "pass"
   ]
  },
  {
   "cell_type": "markdown",
   "metadata": {},
   "source": [
    "## DIR函数"
   ]
  },
  {
   "cell_type": "code",
   "execution_count": 49,
   "metadata": {},
   "outputs": [
    {
     "name": "stdout",
     "output_type": "stream",
     "text": [
      "['__add__', '__class__', '__contains__', '__delattr__', '__delitem__', '__delslice__', '__doc__', '__eq__', '__format__', '__ge__', '__getattribute__', '__getitem__', '__getslice__', '__gt__', '__hash__', '__iadd__', '__imul__', '__init__', '__iter__', '__le__', '__len__', '__lt__', '__mul__', '__ne__', '__new__', '__reduce__', '__reduce_ex__', '__repr__', '__reversed__', '__rmul__', '__setattr__', '__setitem__', '__setslice__', '__sizeof__', '__str__', '__subclasshook__', 'append', 'count', 'extend', 'index', 'insert', 'pop', 'remove', 'reverse', 'sort']\n"
     ]
    }
   ],
   "source": [
    "print dir(list)"
   ]
  },
  {
   "cell_type": "code",
   "execution_count": 50,
   "metadata": {},
   "outputs": [
    {
     "name": "stdout",
     "output_type": "stream",
     "text": [
      "['__add__', '__class__', '__contains__', '__delattr__', '__doc__', '__eq__', '__format__', '__ge__', '__getattribute__', '__getitem__', '__getnewargs__', '__getslice__', '__gt__', '__hash__', '__init__', '__le__', '__len__', '__lt__', '__mod__', '__mul__', '__ne__', '__new__', '__reduce__', '__reduce_ex__', '__repr__', '__rmod__', '__rmul__', '__setattr__', '__sizeof__', '__str__', '__subclasshook__', '_formatter_field_name_split', '_formatter_parser', 'capitalize', 'center', 'count', 'decode', 'encode', 'endswith', 'expandtabs', 'find', 'format', 'index', 'isalnum', 'isalpha', 'isdigit', 'islower', 'isspace', 'istitle', 'isupper', 'join', 'ljust', 'lower', 'lstrip', 'partition', 'replace', 'rfind', 'rindex', 'rjust', 'rpartition', 'rsplit', 'rstrip', 'split', 'splitlines', 'startswith', 'strip', 'swapcase', 'title', 'translate', 'upper', 'zfill']\n"
     ]
    }
   ],
   "source": [
    "print dir(str)"
   ]
  },
  {
   "cell_type": "code",
   "execution_count": 51,
   "metadata": {},
   "outputs": [
    {
     "name": "stdout",
     "output_type": "stream",
     "text": [
      "['__add__', '__class__', '__contains__', '__delattr__', '__doc__', '__eq__', '__format__', '__ge__', '__getattribute__', '__getitem__', '__getnewargs__', '__getslice__', '__gt__', '__hash__', '__init__', '__le__', '__len__', '__lt__', '__mod__', '__mul__', '__ne__', '__new__', '__reduce__', '__reduce_ex__', '__repr__', '__rmod__', '__rmul__', '__setattr__', '__sizeof__', '__str__', '__subclasshook__', '_formatter_field_name_split', '_formatter_parser', 'capitalize', 'center', 'count', 'decode', 'encode', 'endswith', 'expandtabs', 'find', 'format', 'index', 'isalnum', 'isalpha', 'isdigit', 'islower', 'isspace', 'istitle', 'isupper', 'join', 'ljust', 'lower', 'lstrip', 'partition', 'replace', 'rfind', 'rindex', 'rjust', 'rpartition', 'rsplit', 'rstrip', 'split', 'splitlines', 'startswith', 'strip', 'swapcase', 'title', 'translate', 'upper', 'zfill']\n"
     ]
    }
   ],
   "source": [
    "print dir('')"
   ]
  },
  {
   "cell_type": "code",
   "execution_count": 52,
   "metadata": {},
   "outputs": [
    {
     "data": {
      "text/plain": [
       "['D',\n",
       " 'D1',\n",
       " 'In',\n",
       " 'Iterable',\n",
       " 'Out',\n",
       " 'X',\n",
       " 'Y',\n",
       " '_',\n",
       " '_17',\n",
       " '_31',\n",
       " '_32',\n",
       " '_39',\n",
       " '_40',\n",
       " '_41',\n",
       " '_42',\n",
       " '_43',\n",
       " '__',\n",
       " '___',\n",
       " '__builtin__',\n",
       " '__builtins__',\n",
       " '__doc__',\n",
       " '__name__',\n",
       " '__package__',\n",
       " '_dh',\n",
       " '_i',\n",
       " '_i1',\n",
       " '_i10',\n",
       " '_i11',\n",
       " '_i12',\n",
       " '_i13',\n",
       " '_i14',\n",
       " '_i15',\n",
       " '_i16',\n",
       " '_i17',\n",
       " '_i18',\n",
       " '_i19',\n",
       " '_i2',\n",
       " '_i20',\n",
       " '_i21',\n",
       " '_i22',\n",
       " '_i23',\n",
       " '_i24',\n",
       " '_i25',\n",
       " '_i26',\n",
       " '_i27',\n",
       " '_i28',\n",
       " '_i29',\n",
       " '_i3',\n",
       " '_i30',\n",
       " '_i31',\n",
       " '_i32',\n",
       " '_i33',\n",
       " '_i34',\n",
       " '_i35',\n",
       " '_i36',\n",
       " '_i37',\n",
       " '_i38',\n",
       " '_i39',\n",
       " '_i4',\n",
       " '_i40',\n",
       " '_i41',\n",
       " '_i42',\n",
       " '_i43',\n",
       " '_i44',\n",
       " '_i45',\n",
       " '_i46',\n",
       " '_i47',\n",
       " '_i48',\n",
       " '_i49',\n",
       " '_i5',\n",
       " '_i50',\n",
       " '_i51',\n",
       " '_i52',\n",
       " '_i6',\n",
       " '_i7',\n",
       " '_i8',\n",
       " '_i9',\n",
       " '_ih',\n",
       " '_ii',\n",
       " '_iii',\n",
       " '_oh',\n",
       " '_sh',\n",
       " 'exit',\n",
       " 'fp',\n",
       " 'func',\n",
       " 'get_ipython',\n",
       " 'i',\n",
       " 'index',\n",
       " 'item',\n",
       " 'j',\n",
       " 'line',\n",
       " 'n',\n",
       " 'quit',\n",
       " 'value',\n",
       " 'x',\n",
       " 'x1',\n",
       " 'x2',\n",
       " 'x3',\n",
       " 'x4',\n",
       " 'y']"
      ]
     },
     "execution_count": 52,
     "metadata": {},
     "output_type": "execute_result"
    }
   ],
   "source": [
    "dir()"
   ]
  },
  {
   "cell_type": "code",
   "execution_count": 53,
   "metadata": {},
   "outputs": [
    {
     "data": {
      "text/plain": [
       "['D',\n",
       " 'D1',\n",
       " 'In',\n",
       " 'Iterable',\n",
       " 'Out',\n",
       " 'X',\n",
       " 'Y',\n",
       " '_',\n",
       " '_17',\n",
       " '_31',\n",
       " '_32',\n",
       " '_39',\n",
       " '_40',\n",
       " '_41',\n",
       " '_42',\n",
       " '_43',\n",
       " '_52',\n",
       " '__',\n",
       " '___',\n",
       " '__builtin__',\n",
       " '__builtins__',\n",
       " '__doc__',\n",
       " '__name__',\n",
       " '__package__',\n",
       " '_dh',\n",
       " '_i',\n",
       " '_i1',\n",
       " '_i10',\n",
       " '_i11',\n",
       " '_i12',\n",
       " '_i13',\n",
       " '_i14',\n",
       " '_i15',\n",
       " '_i16',\n",
       " '_i17',\n",
       " '_i18',\n",
       " '_i19',\n",
       " '_i2',\n",
       " '_i20',\n",
       " '_i21',\n",
       " '_i22',\n",
       " '_i23',\n",
       " '_i24',\n",
       " '_i25',\n",
       " '_i26',\n",
       " '_i27',\n",
       " '_i28',\n",
       " '_i29',\n",
       " '_i3',\n",
       " '_i30',\n",
       " '_i31',\n",
       " '_i32',\n",
       " '_i33',\n",
       " '_i34',\n",
       " '_i35',\n",
       " '_i36',\n",
       " '_i37',\n",
       " '_i38',\n",
       " '_i39',\n",
       " '_i4',\n",
       " '_i40',\n",
       " '_i41',\n",
       " '_i42',\n",
       " '_i43',\n",
       " '_i44',\n",
       " '_i45',\n",
       " '_i46',\n",
       " '_i47',\n",
       " '_i48',\n",
       " '_i49',\n",
       " '_i5',\n",
       " '_i50',\n",
       " '_i51',\n",
       " '_i52',\n",
       " '_i53',\n",
       " '_i6',\n",
       " '_i7',\n",
       " '_i8',\n",
       " '_i9',\n",
       " '_ih',\n",
       " '_ii',\n",
       " '_iii',\n",
       " '_oh',\n",
       " '_sh',\n",
       " 'exit',\n",
       " 'fp',\n",
       " 'func',\n",
       " 'get_ipython',\n",
       " 'i',\n",
       " 'index',\n",
       " 'item',\n",
       " 'j',\n",
       " 'line',\n",
       " 'n',\n",
       " 'quit',\n",
       " 'value',\n",
       " 'x',\n",
       " 'x1',\n",
       " 'x2',\n",
       " 'x3',\n",
       " 'x4',\n",
       " 'y']"
      ]
     },
     "execution_count": 53,
     "metadata": {},
     "output_type": "execute_result"
    }
   ],
   "source": [
    "x = 8\n",
    "dir()"
   ]
  },
  {
   "cell_type": "code",
   "execution_count": 54,
   "metadata": {},
   "outputs": [
    {
     "data": {
      "text/plain": [
       "['D',\n",
       " 'D1',\n",
       " 'In',\n",
       " 'Iterable',\n",
       " 'Out',\n",
       " 'X',\n",
       " 'Y',\n",
       " '_',\n",
       " '_17',\n",
       " '_31',\n",
       " '_32',\n",
       " '_39',\n",
       " '_40',\n",
       " '_41',\n",
       " '_42',\n",
       " '_43',\n",
       " '_52',\n",
       " '_53',\n",
       " '__',\n",
       " '___',\n",
       " '__builtin__',\n",
       " '__builtins__',\n",
       " '__doc__',\n",
       " '__name__',\n",
       " '__package__',\n",
       " '_dh',\n",
       " '_i',\n",
       " '_i1',\n",
       " '_i10',\n",
       " '_i11',\n",
       " '_i12',\n",
       " '_i13',\n",
       " '_i14',\n",
       " '_i15',\n",
       " '_i16',\n",
       " '_i17',\n",
       " '_i18',\n",
       " '_i19',\n",
       " '_i2',\n",
       " '_i20',\n",
       " '_i21',\n",
       " '_i22',\n",
       " '_i23',\n",
       " '_i24',\n",
       " '_i25',\n",
       " '_i26',\n",
       " '_i27',\n",
       " '_i28',\n",
       " '_i29',\n",
       " '_i3',\n",
       " '_i30',\n",
       " '_i31',\n",
       " '_i32',\n",
       " '_i33',\n",
       " '_i34',\n",
       " '_i35',\n",
       " '_i36',\n",
       " '_i37',\n",
       " '_i38',\n",
       " '_i39',\n",
       " '_i4',\n",
       " '_i40',\n",
       " '_i41',\n",
       " '_i42',\n",
       " '_i43',\n",
       " '_i44',\n",
       " '_i45',\n",
       " '_i46',\n",
       " '_i47',\n",
       " '_i48',\n",
       " '_i49',\n",
       " '_i5',\n",
       " '_i50',\n",
       " '_i51',\n",
       " '_i52',\n",
       " '_i53',\n",
       " '_i54',\n",
       " '_i6',\n",
       " '_i7',\n",
       " '_i8',\n",
       " '_i9',\n",
       " '_ih',\n",
       " '_ii',\n",
       " '_iii',\n",
       " '_oh',\n",
       " '_sh',\n",
       " 'exit',\n",
       " 'fp',\n",
       " 'func',\n",
       " 'get_ipython',\n",
       " 'i',\n",
       " 'index',\n",
       " 'item',\n",
       " 'j',\n",
       " 'line',\n",
       " 'n',\n",
       " 'quit',\n",
       " 'value',\n",
       " 'x1',\n",
       " 'x2',\n",
       " 'x3',\n",
       " 'x4',\n",
       " 'y']"
      ]
     },
     "execution_count": 54,
     "metadata": {},
     "output_type": "execute_result"
    }
   ],
   "source": [
    "del x\n",
    "dir()"
   ]
  },
  {
   "cell_type": "markdown",
   "metadata": {},
   "source": [
    "## 文档字符串"
   ]
  },
  {
   "cell_type": "code",
   "execution_count": 55,
   "metadata": {},
   "outputs": [
    {
     "name": "stdout",
     "output_type": "stream",
     "text": [
      "L.append(object) -- append object to end\n"
     ]
    }
   ],
   "source": [
    "print list.append.__doc__"
   ]
  },
  {
   "cell_type": "code",
   "execution_count": 56,
   "metadata": {},
   "outputs": [
    {
     "name": "stdout",
     "output_type": "stream",
     "text": [
      "S.isspace() -> bool\n",
      "\n",
      "Return True if all characters in S are whitespace\n",
      "and there is at least one character in S, False otherwise.\n"
     ]
    }
   ],
   "source": [
    "print str.isspace.__doc__"
   ]
  },
  {
   "cell_type": "code",
   "execution_count": 57,
   "metadata": {
    "collapsed": true
   },
   "outputs": [],
   "source": [
    "def cluster():\n",
    "    \"\"\"\n",
    "    cluster is a method to get many nodes information\n",
    "    \"\"\"\n",
    "    pass"
   ]
  },
  {
   "cell_type": "code",
   "execution_count": 58,
   "metadata": {},
   "outputs": [
    {
     "name": "stdout",
     "output_type": "stream",
     "text": [
      "\n",
      "    cluster is a method to get many nodes information\n",
      "    \n"
     ]
    }
   ],
   "source": [
    "print cluster.__doc__"
   ]
  },
  {
   "cell_type": "code",
   "execution_count": 59,
   "metadata": {},
   "outputs": [
    {
     "name": "stdout",
     "output_type": "stream",
     "text": [
      "Help on function cluster in module __main__:\n",
      "\n",
      "cluster()\n",
      "    cluster is a method to get many nodes information\n",
      "\n"
     ]
    }
   ],
   "source": [
    "help(cluster)"
   ]
  },
  {
   "cell_type": "code",
   "execution_count": 60,
   "metadata": {},
   "outputs": [
    {
     "data": {
      "text/plain": [
       "'An extensible library for opening URLs using a variety of protocols\\n\\nThe simplest way to use this module is to call the urlopen function,\\nwhich accepts a string containing a URL or a Request object (described\\nbelow).  It opens the URL and returns the results as file-like\\nobject; the returned object has some extra methods described below.\\n\\nThe OpenerDirector manages a collection of Handler objects that do\\nall the actual work.  Each Handler implements a particular protocol or\\noption.  The OpenerDirector is a composite object that invokes the\\nHandlers needed to open the requested URL.  For example, the\\nHTTPHandler performs HTTP GET and POST requests and deals with\\nnon-error returns.  The HTTPRedirectHandler automatically deals with\\nHTTP 301, 302, 303 and 307 redirect errors, and the HTTPDigestAuthHandler\\ndeals with digest authentication.\\n\\nurlopen(url, data=None) -- Basic usage is the same as original\\nurllib.  pass the url and optionally data to post to an HTTP URL, and\\nget a file-like object back.  One difference is that you can also pass\\na Request instance instead of URL.  Raises a URLError (subclass of\\nIOError); for HTTP errors, raises an HTTPError, which can also be\\ntreated as a valid response.\\n\\nbuild_opener -- Function that creates a new OpenerDirector instance.\\nWill install the default handlers.  Accepts one or more Handlers as\\narguments, either instances or Handler classes that it will\\ninstantiate.  If one of the argument is a subclass of the default\\nhandler, the argument will be installed instead of the default.\\n\\ninstall_opener -- Installs a new opener as the default opener.\\n\\nobjects of interest:\\n\\nOpenerDirector -- Sets up the User Agent as the Python-urllib client and manages\\nthe Handler classes, while dealing with requests and responses.\\n\\nRequest -- An object that encapsulates the state of a request.  The\\nstate can be as simple as the URL.  It can also include extra HTTP\\nheaders, e.g. a User-Agent.\\n\\nBaseHandler --\\n\\nexceptions:\\nURLError -- A subclass of IOError, individual protocols have their own\\nspecific subclass.\\n\\nHTTPError -- Also a valid HTTP response, so you can treat an HTTP error\\nas an exceptional event or valid response.\\n\\ninternals:\\nBaseHandler and parent\\n_call_chain conventions\\n\\nExample usage:\\n\\nimport urllib2\\n\\n# set up authentication info\\nauthinfo = urllib2.HTTPBasicAuthHandler()\\nauthinfo.add_password(realm=\\'PDQ Application\\',\\n                      uri=\\'https://mahler:8092/site-updates.py\\',\\n                      user=\\'klem\\',\\n                      passwd=\\'geheim$parole\\')\\n\\nproxy_support = urllib2.ProxyHandler({\"http\" : \"http://ahad-haam:3128\"})\\n\\n# build a new opener that adds authentication and caching FTP handlers\\nopener = urllib2.build_opener(proxy_support, authinfo, urllib2.CacheFTPHandler)\\n\\n# install it\\nurllib2.install_opener(opener)\\n\\nf = urllib2.urlopen(\\'http://www.python.org/\\')\\n\\n\\n'"
      ]
     },
     "execution_count": 60,
     "metadata": {},
     "output_type": "execute_result"
    }
   ],
   "source": [
    "import urllib2\n",
    "urllib2.__doc__"
   ]
  },
  {
   "cell_type": "code",
   "execution_count": 61,
   "metadata": {},
   "outputs": [
    {
     "name": "stdout",
     "output_type": "stream",
     "text": [
      "Help on module urllib2:\n",
      "\n",
      "NAME\n",
      "    urllib2 - An extensible library for opening URLs using a variety of protocols\n",
      "\n",
      "FILE\n",
      "    /Library/Frameworks/Python.framework/Versions/2.7/lib/python2.7/urllib2.py\n",
      "\n",
      "DESCRIPTION\n",
      "    The simplest way to use this module is to call the urlopen function,\n",
      "    which accepts a string containing a URL or a Request object (described\n",
      "    below).  It opens the URL and returns the results as file-like\n",
      "    object; the returned object has some extra methods described below.\n",
      "    \n",
      "    The OpenerDirector manages a collection of Handler objects that do\n",
      "    all the actual work.  Each Handler implements a particular protocol or\n",
      "    option.  The OpenerDirector is a composite object that invokes the\n",
      "    Handlers needed to open the requested URL.  For example, the\n",
      "    HTTPHandler performs HTTP GET and POST requests and deals with\n",
      "    non-error returns.  The HTTPRedirectHandler automatically deals with\n",
      "    HTTP 301, 302, 303 and 307 redirect errors, and the HTTPDigestAuthHandler\n",
      "    deals with digest authentication.\n",
      "    \n",
      "    urlopen(url, data=None) -- Basic usage is the same as original\n",
      "    urllib.  pass the url and optionally data to post to an HTTP URL, and\n",
      "    get a file-like object back.  One difference is that you can also pass\n",
      "    a Request instance instead of URL.  Raises a URLError (subclass of\n",
      "    IOError); for HTTP errors, raises an HTTPError, which can also be\n",
      "    treated as a valid response.\n",
      "    \n",
      "    build_opener -- Function that creates a new OpenerDirector instance.\n",
      "    Will install the default handlers.  Accepts one or more Handlers as\n",
      "    arguments, either instances or Handler classes that it will\n",
      "    instantiate.  If one of the argument is a subclass of the default\n",
      "    handler, the argument will be installed instead of the default.\n",
      "    \n",
      "    install_opener -- Installs a new opener as the default opener.\n",
      "    \n",
      "    objects of interest:\n",
      "    \n",
      "    OpenerDirector -- Sets up the User Agent as the Python-urllib client and manages\n",
      "    the Handler classes, while dealing with requests and responses.\n",
      "    \n",
      "    Request -- An object that encapsulates the state of a request.  The\n",
      "    state can be as simple as the URL.  It can also include extra HTTP\n",
      "    headers, e.g. a User-Agent.\n",
      "    \n",
      "    BaseHandler --\n",
      "    \n",
      "    exceptions:\n",
      "    URLError -- A subclass of IOError, individual protocols have their own\n",
      "    specific subclass.\n",
      "    \n",
      "    HTTPError -- Also a valid HTTP response, so you can treat an HTTP error\n",
      "    as an exceptional event or valid response.\n",
      "    \n",
      "    internals:\n",
      "    BaseHandler and parent\n",
      "    _call_chain conventions\n",
      "    \n",
      "    Example usage:\n",
      "    \n",
      "    import urllib2\n",
      "    \n",
      "    # set up authentication info\n",
      "    authinfo = urllib2.HTTPBasicAuthHandler()\n",
      "    authinfo.add_password(realm='PDQ Application',\n",
      "                          uri='https://mahler:8092/site-updates.py',\n",
      "                          user='klem',\n",
      "                          passwd='geheim$parole')\n",
      "    \n",
      "    proxy_support = urllib2.ProxyHandler({\"http\" : \"http://ahad-haam:3128\"})\n",
      "    \n",
      "    # build a new opener that adds authentication and caching FTP handlers\n",
      "    opener = urllib2.build_opener(proxy_support, authinfo, urllib2.CacheFTPHandler)\n",
      "    \n",
      "    # install it\n",
      "    urllib2.install_opener(opener)\n",
      "    \n",
      "    f = urllib2.urlopen('http://www.python.org/')\n",
      "\n",
      "CLASSES\n",
      "    exceptions.IOError(exceptions.EnvironmentError)\n",
      "        URLError\n",
      "            HTTPError(URLError, urllib.addinfourl)\n",
      "    AbstractBasicAuthHandler\n",
      "        HTTPBasicAuthHandler(AbstractBasicAuthHandler, BaseHandler)\n",
      "        ProxyBasicAuthHandler(AbstractBasicAuthHandler, BaseHandler)\n",
      "    AbstractDigestAuthHandler\n",
      "    BaseHandler\n",
      "        AbstractHTTPHandler\n",
      "            HTTPHandler\n",
      "            HTTPSHandler\n",
      "        FTPHandler\n",
      "            CacheFTPHandler\n",
      "        FileHandler\n",
      "        HTTPCookieProcessor\n",
      "        HTTPDefaultErrorHandler\n",
      "        HTTPDigestAuthHandler(BaseHandler, AbstractDigestAuthHandler)\n",
      "        HTTPErrorProcessor\n",
      "        HTTPRedirectHandler\n",
      "        ProxyDigestAuthHandler(BaseHandler, AbstractDigestAuthHandler)\n",
      "        ProxyHandler\n",
      "        UnknownHandler\n",
      "    HTTPPasswordMgr\n",
      "        HTTPPasswordMgrWithDefaultRealm\n",
      "    OpenerDirector\n",
      "    Request\n",
      "    \n",
      "    class AbstractBasicAuthHandler\n",
      "     |  Methods defined here:\n",
      "     |  \n",
      "     |  __init__(self, password_mgr=None)\n",
      "     |  \n",
      "     |  http_error_auth_reqed(self, authreq, host, req, headers)\n",
      "     |  \n",
      "     |  retry_http_basic_auth(self, host, req, realm)\n",
      "     |  \n",
      "     |  ----------------------------------------------------------------------\n",
      "     |  Data and other attributes defined here:\n",
      "     |  \n",
      "     |  rx = <_sre.SRE_Pattern object>\n",
      "    \n",
      "    class AbstractDigestAuthHandler\n",
      "     |  Methods defined here:\n",
      "     |  \n",
      "     |  __init__(self, passwd=None)\n",
      "     |  \n",
      "     |  get_algorithm_impls(self, algorithm)\n",
      "     |  \n",
      "     |  get_authorization(self, req, chal)\n",
      "     |  \n",
      "     |  get_cnonce(self, nonce)\n",
      "     |  \n",
      "     |  get_entity_digest(self, data, chal)\n",
      "     |  \n",
      "     |  http_error_auth_reqed(self, auth_header, host, req, headers)\n",
      "     |  \n",
      "     |  reset_retry_count(self)\n",
      "     |  \n",
      "     |  retry_http_digest_auth(self, req, auth)\n",
      "    \n",
      "    class AbstractHTTPHandler(BaseHandler)\n",
      "     |  Methods defined here:\n",
      "     |  \n",
      "     |  __init__(self, debuglevel=0)\n",
      "     |  \n",
      "     |  do_open(self, http_class, req, **http_conn_args)\n",
      "     |      Return an addinfourl object for the request, using http_class.\n",
      "     |      \n",
      "     |      http_class must implement the HTTPConnection API from httplib.\n",
      "     |      The addinfourl return value is a file-like object.  It also\n",
      "     |      has methods and attributes including:\n",
      "     |          - info(): return a mimetools.Message object for the headers\n",
      "     |          - geturl(): return the original request URL\n",
      "     |          - code: HTTP status code\n",
      "     |  \n",
      "     |  do_request_(self, request)\n",
      "     |  \n",
      "     |  set_http_debuglevel(self, level)\n",
      "     |  \n",
      "     |  ----------------------------------------------------------------------\n",
      "     |  Methods inherited from BaseHandler:\n",
      "     |  \n",
      "     |  __lt__(self, other)\n",
      "     |  \n",
      "     |  add_parent(self, parent)\n",
      "     |  \n",
      "     |  close(self)\n",
      "     |  \n",
      "     |  ----------------------------------------------------------------------\n",
      "     |  Data and other attributes inherited from BaseHandler:\n",
      "     |  \n",
      "     |  handler_order = 500\n",
      "    \n",
      "    class BaseHandler\n",
      "     |  Methods defined here:\n",
      "     |  \n",
      "     |  __lt__(self, other)\n",
      "     |  \n",
      "     |  add_parent(self, parent)\n",
      "     |  \n",
      "     |  close(self)\n",
      "     |  \n",
      "     |  ----------------------------------------------------------------------\n",
      "     |  Data and other attributes defined here:\n",
      "     |  \n",
      "     |  handler_order = 500\n",
      "    \n",
      "    class CacheFTPHandler(FTPHandler)\n",
      "     |  Method resolution order:\n",
      "     |      CacheFTPHandler\n",
      "     |      FTPHandler\n",
      "     |      BaseHandler\n",
      "     |  \n",
      "     |  Methods defined here:\n",
      "     |  \n",
      "     |  __init__(self)\n",
      "     |      # XXX would be nice to have pluggable cache strategies\n",
      "     |      # XXX this stuff is definitely not thread safe\n",
      "     |  \n",
      "     |  check_cache(self)\n",
      "     |  \n",
      "     |  clear_cache(self)\n",
      "     |  \n",
      "     |  connect_ftp(self, user, passwd, host, port, dirs, timeout)\n",
      "     |  \n",
      "     |  setMaxConns(self, m)\n",
      "     |  \n",
      "     |  setTimeout(self, t)\n",
      "     |  \n",
      "     |  ----------------------------------------------------------------------\n",
      "     |  Methods inherited from FTPHandler:\n",
      "     |  \n",
      "     |  ftp_open(self, req)\n",
      "     |  \n",
      "     |  ----------------------------------------------------------------------\n",
      "     |  Methods inherited from BaseHandler:\n",
      "     |  \n",
      "     |  __lt__(self, other)\n",
      "     |  \n",
      "     |  add_parent(self, parent)\n",
      "     |  \n",
      "     |  close(self)\n",
      "     |  \n",
      "     |  ----------------------------------------------------------------------\n",
      "     |  Data and other attributes inherited from BaseHandler:\n",
      "     |  \n",
      "     |  handler_order = 500\n",
      "    \n",
      "    class FTPHandler(BaseHandler)\n",
      "     |  Methods defined here:\n",
      "     |  \n",
      "     |  connect_ftp(self, user, passwd, host, port, dirs, timeout)\n",
      "     |  \n",
      "     |  ftp_open(self, req)\n",
      "     |  \n",
      "     |  ----------------------------------------------------------------------\n",
      "     |  Methods inherited from BaseHandler:\n",
      "     |  \n",
      "     |  __lt__(self, other)\n",
      "     |  \n",
      "     |  add_parent(self, parent)\n",
      "     |  \n",
      "     |  close(self)\n",
      "     |  \n",
      "     |  ----------------------------------------------------------------------\n",
      "     |  Data and other attributes inherited from BaseHandler:\n",
      "     |  \n",
      "     |  handler_order = 500\n",
      "    \n",
      "    class FileHandler(BaseHandler)\n",
      "     |  Methods defined here:\n",
      "     |  \n",
      "     |  file_open(self, req)\n",
      "     |      # Use local file or FTP depending on form of URL\n",
      "     |  \n",
      "     |  get_names(self)\n",
      "     |  \n",
      "     |  open_local_file(self, req)\n",
      "     |      # not entirely sure what the rules are here\n",
      "     |  \n",
      "     |  ----------------------------------------------------------------------\n",
      "     |  Data and other attributes defined here:\n",
      "     |  \n",
      "     |  names = None\n",
      "     |  \n",
      "     |  ----------------------------------------------------------------------\n",
      "     |  Methods inherited from BaseHandler:\n",
      "     |  \n",
      "     |  __lt__(self, other)\n",
      "     |  \n",
      "     |  add_parent(self, parent)\n",
      "     |  \n",
      "     |  close(self)\n",
      "     |  \n",
      "     |  ----------------------------------------------------------------------\n",
      "     |  Data and other attributes inherited from BaseHandler:\n",
      "     |  \n",
      "     |  handler_order = 500\n",
      "    \n",
      "    class HTTPBasicAuthHandler(AbstractBasicAuthHandler, BaseHandler)\n",
      "     |  Method resolution order:\n",
      "     |      HTTPBasicAuthHandler\n",
      "     |      AbstractBasicAuthHandler\n",
      "     |      BaseHandler\n",
      "     |  \n",
      "     |  Methods defined here:\n",
      "     |  \n",
      "     |  http_error_401(self, req, fp, code, msg, headers)\n",
      "     |  \n",
      "     |  ----------------------------------------------------------------------\n",
      "     |  Data and other attributes defined here:\n",
      "     |  \n",
      "     |  auth_header = 'Authorization'\n",
      "     |  \n",
      "     |  ----------------------------------------------------------------------\n",
      "     |  Methods inherited from AbstractBasicAuthHandler:\n",
      "     |  \n",
      "     |  __init__(self, password_mgr=None)\n",
      "     |  \n",
      "     |  http_error_auth_reqed(self, authreq, host, req, headers)\n",
      "     |  \n",
      "     |  retry_http_basic_auth(self, host, req, realm)\n",
      "     |  \n",
      "     |  ----------------------------------------------------------------------\n",
      "     |  Data and other attributes inherited from AbstractBasicAuthHandler:\n",
      "     |  \n",
      "     |  rx = <_sre.SRE_Pattern object>\n",
      "     |  \n",
      "     |  ----------------------------------------------------------------------\n",
      "     |  Methods inherited from BaseHandler:\n",
      "     |  \n",
      "     |  __lt__(self, other)\n",
      "     |  \n",
      "     |  add_parent(self, parent)\n",
      "     |  \n",
      "     |  close(self)\n",
      "     |  \n",
      "     |  ----------------------------------------------------------------------\n",
      "     |  Data and other attributes inherited from BaseHandler:\n",
      "     |  \n",
      "     |  handler_order = 500\n",
      "    \n",
      "    class HTTPCookieProcessor(BaseHandler)\n",
      "     |  Methods defined here:\n",
      "     |  \n",
      "     |  __init__(self, cookiejar=None)\n",
      "     |  \n",
      "     |  http_request(self, request)\n",
      "     |  \n",
      "     |  http_response(self, request, response)\n",
      "     |  \n",
      "     |  https_request = http_request(self, request)\n",
      "     |  \n",
      "     |  https_response = http_response(self, request, response)\n",
      "     |  \n",
      "     |  ----------------------------------------------------------------------\n",
      "     |  Methods inherited from BaseHandler:\n",
      "     |  \n",
      "     |  __lt__(self, other)\n",
      "     |  \n",
      "     |  add_parent(self, parent)\n",
      "     |  \n",
      "     |  close(self)\n",
      "     |  \n",
      "     |  ----------------------------------------------------------------------\n",
      "     |  Data and other attributes inherited from BaseHandler:\n",
      "     |  \n",
      "     |  handler_order = 500\n",
      "    \n",
      "    class HTTPDefaultErrorHandler(BaseHandler)\n",
      "     |  Methods defined here:\n",
      "     |  \n",
      "     |  http_error_default(self, req, fp, code, msg, hdrs)\n",
      "     |  \n",
      "     |  ----------------------------------------------------------------------\n",
      "     |  Methods inherited from BaseHandler:\n",
      "     |  \n",
      "     |  __lt__(self, other)\n",
      "     |  \n",
      "     |  add_parent(self, parent)\n",
      "     |  \n",
      "     |  close(self)\n",
      "     |  \n",
      "     |  ----------------------------------------------------------------------\n",
      "     |  Data and other attributes inherited from BaseHandler:\n",
      "     |  \n",
      "     |  handler_order = 500\n",
      "    \n",
      "    class HTTPDigestAuthHandler(BaseHandler, AbstractDigestAuthHandler)\n",
      "     |  An authentication protocol defined by RFC 2069\n",
      "     |  \n",
      "     |  Digest authentication improves on basic authentication because it\n",
      "     |  does not transmit passwords in the clear.\n",
      "     |  \n",
      "     |  Method resolution order:\n",
      "     |      HTTPDigestAuthHandler\n",
      "     |      BaseHandler\n",
      "     |      AbstractDigestAuthHandler\n",
      "     |  \n",
      "     |  Methods defined here:\n",
      "     |  \n",
      "     |  http_error_401(self, req, fp, code, msg, headers)\n",
      "     |  \n",
      "     |  ----------------------------------------------------------------------\n",
      "     |  Data and other attributes defined here:\n",
      "     |  \n",
      "     |  auth_header = 'Authorization'\n",
      "     |  \n",
      "     |  handler_order = 490\n",
      "     |  \n",
      "     |  ----------------------------------------------------------------------\n",
      "     |  Methods inherited from BaseHandler:\n",
      "     |  \n",
      "     |  __lt__(self, other)\n",
      "     |  \n",
      "     |  add_parent(self, parent)\n",
      "     |  \n",
      "     |  close(self)\n",
      "     |  \n",
      "     |  ----------------------------------------------------------------------\n",
      "     |  Methods inherited from AbstractDigestAuthHandler:\n",
      "     |  \n",
      "     |  __init__(self, passwd=None)\n",
      "     |  \n",
      "     |  get_algorithm_impls(self, algorithm)\n",
      "     |  \n",
      "     |  get_authorization(self, req, chal)\n",
      "     |  \n",
      "     |  get_cnonce(self, nonce)\n",
      "     |  \n",
      "     |  get_entity_digest(self, data, chal)\n",
      "     |  \n",
      "     |  http_error_auth_reqed(self, auth_header, host, req, headers)\n",
      "     |  \n",
      "     |  reset_retry_count(self)\n",
      "     |  \n",
      "     |  retry_http_digest_auth(self, req, auth)\n",
      "    \n",
      "    class HTTPError(URLError, urllib.addinfourl)\n",
      "     |  Raised when HTTP error occurs, but also acts like non-error return\n",
      "     |  \n",
      "     |  Method resolution order:\n",
      "     |      HTTPError\n",
      "     |      URLError\n",
      "     |      exceptions.IOError\n",
      "     |      exceptions.EnvironmentError\n",
      "     |      exceptions.StandardError\n",
      "     |      exceptions.Exception\n",
      "     |      exceptions.BaseException\n",
      "     |      __builtin__.object\n",
      "     |      urllib.addinfourl\n",
      "     |      urllib.addbase\n",
      "     |  \n",
      "     |  Methods defined here:\n",
      "     |  \n",
      "     |  __init__(self, url, code, msg, hdrs, fp)\n",
      "     |  \n",
      "     |  __str__(self)\n",
      "     |  \n",
      "     |  info(self)\n",
      "     |  \n",
      "     |  ----------------------------------------------------------------------\n",
      "     |  Data descriptors defined here:\n",
      "     |  \n",
      "     |  reason\n",
      "     |  \n",
      "     |  ----------------------------------------------------------------------\n",
      "     |  Data descriptors inherited from URLError:\n",
      "     |  \n",
      "     |  __weakref__\n",
      "     |      list of weak references to the object (if defined)\n",
      "     |  \n",
      "     |  ----------------------------------------------------------------------\n",
      "     |  Data and other attributes inherited from exceptions.IOError:\n",
      "     |  \n",
      "     |  __new__ = <built-in method __new__ of type object>\n",
      "     |      T.__new__(S, ...) -> a new object with type S, a subtype of T\n",
      "     |  \n",
      "     |  ----------------------------------------------------------------------\n",
      "     |  Methods inherited from exceptions.EnvironmentError:\n",
      "     |  \n",
      "     |  __reduce__(...)\n",
      "     |  \n",
      "     |  ----------------------------------------------------------------------\n",
      "     |  Data descriptors inherited from exceptions.EnvironmentError:\n",
      "     |  \n",
      "     |  errno\n",
      "     |      exception errno\n",
      "     |  \n",
      "     |  filename\n",
      "     |      exception filename\n",
      "     |  \n",
      "     |  strerror\n",
      "     |      exception strerror\n",
      "     |  \n",
      "     |  ----------------------------------------------------------------------\n",
      "     |  Methods inherited from exceptions.BaseException:\n",
      "     |  \n",
      "     |  __delattr__(...)\n",
      "     |      x.__delattr__('name') <==> del x.name\n",
      "     |  \n",
      "     |  __getattribute__(...)\n",
      "     |      x.__getattribute__('name') <==> x.name\n",
      "     |  \n",
      "     |  __getitem__(...)\n",
      "     |      x.__getitem__(y) <==> x[y]\n",
      "     |  \n",
      "     |  __getslice__(...)\n",
      "     |      x.__getslice__(i, j) <==> x[i:j]\n",
      "     |      \n",
      "     |      Use of negative indices is not supported.\n",
      "     |  \n",
      "     |  __repr__(...)\n",
      "     |      x.__repr__() <==> repr(x)\n",
      "     |  \n",
      "     |  __setattr__(...)\n",
      "     |      x.__setattr__('name', value) <==> x.name = value\n",
      "     |  \n",
      "     |  __setstate__(...)\n",
      "     |  \n",
      "     |  __unicode__(...)\n",
      "     |  \n",
      "     |  ----------------------------------------------------------------------\n",
      "     |  Data descriptors inherited from exceptions.BaseException:\n",
      "     |  \n",
      "     |  __dict__\n",
      "     |  \n",
      "     |  args\n",
      "     |  \n",
      "     |  message\n",
      "     |  \n",
      "     |  ----------------------------------------------------------------------\n",
      "     |  Methods inherited from urllib.addinfourl:\n",
      "     |  \n",
      "     |  getcode(self)\n",
      "     |  \n",
      "     |  geturl(self)\n",
      "     |  \n",
      "     |  ----------------------------------------------------------------------\n",
      "     |  Methods inherited from urllib.addbase:\n",
      "     |  \n",
      "     |  close(self)\n",
      "    \n",
      "    class HTTPErrorProcessor(BaseHandler)\n",
      "     |  Process HTTP error responses.\n",
      "     |  \n",
      "     |  Methods defined here:\n",
      "     |  \n",
      "     |  http_response(self, request, response)\n",
      "     |  \n",
      "     |  https_response = http_response(self, request, response)\n",
      "     |  \n",
      "     |  ----------------------------------------------------------------------\n",
      "     |  Data and other attributes defined here:\n",
      "     |  \n",
      "     |  handler_order = 1000\n",
      "     |  \n",
      "     |  ----------------------------------------------------------------------\n",
      "     |  Methods inherited from BaseHandler:\n",
      "     |  \n",
      "     |  __lt__(self, other)\n",
      "     |  \n",
      "     |  add_parent(self, parent)\n",
      "     |  \n",
      "     |  close(self)\n",
      "    \n",
      "    class HTTPHandler(AbstractHTTPHandler)\n",
      "     |  Method resolution order:\n",
      "     |      HTTPHandler\n",
      "     |      AbstractHTTPHandler\n",
      "     |      BaseHandler\n",
      "     |  \n",
      "     |  Methods defined here:\n",
      "     |  \n",
      "     |  http_open(self, req)\n",
      "     |  \n",
      "     |  http_request = do_request_(self, request)\n",
      "     |  \n",
      "     |  ----------------------------------------------------------------------\n",
      "     |  Methods inherited from AbstractHTTPHandler:\n",
      "     |  \n",
      "     |  __init__(self, debuglevel=0)\n",
      "     |  \n",
      "     |  do_open(self, http_class, req, **http_conn_args)\n",
      "     |      Return an addinfourl object for the request, using http_class.\n",
      "     |      \n",
      "     |      http_class must implement the HTTPConnection API from httplib.\n",
      "     |      The addinfourl return value is a file-like object.  It also\n",
      "     |      has methods and attributes including:\n",
      "     |          - info(): return a mimetools.Message object for the headers\n",
      "     |          - geturl(): return the original request URL\n",
      "     |          - code: HTTP status code\n",
      "     |  \n",
      "     |  do_request_(self, request)\n",
      "     |  \n",
      "     |  set_http_debuglevel(self, level)\n",
      "     |  \n",
      "     |  ----------------------------------------------------------------------\n",
      "     |  Methods inherited from BaseHandler:\n",
      "     |  \n",
      "     |  __lt__(self, other)\n",
      "     |  \n",
      "     |  add_parent(self, parent)\n",
      "     |  \n",
      "     |  close(self)\n",
      "     |  \n",
      "     |  ----------------------------------------------------------------------\n",
      "     |  Data and other attributes inherited from BaseHandler:\n",
      "     |  \n",
      "     |  handler_order = 500\n",
      "    \n",
      "    class HTTPPasswordMgr\n",
      "     |  Methods defined here:\n",
      "     |  \n",
      "     |  __init__(self)\n",
      "     |  \n",
      "     |  add_password(self, realm, uri, user, passwd)\n",
      "     |  \n",
      "     |  find_user_password(self, realm, authuri)\n",
      "     |  \n",
      "     |  is_suburi(self, base, test)\n",
      "     |      Check if test is below base in a URI tree\n",
      "     |      \n",
      "     |      Both args must be URIs in reduced form.\n",
      "     |  \n",
      "     |  reduce_uri(self, uri, default_port=True)\n",
      "     |      Accept authority or URI and extract only the authority and path.\n",
      "    \n",
      "    class HTTPPasswordMgrWithDefaultRealm(HTTPPasswordMgr)\n",
      "     |  Methods defined here:\n",
      "     |  \n",
      "     |  find_user_password(self, realm, authuri)\n",
      "     |  \n",
      "     |  ----------------------------------------------------------------------\n",
      "     |  Methods inherited from HTTPPasswordMgr:\n",
      "     |  \n",
      "     |  __init__(self)\n",
      "     |  \n",
      "     |  add_password(self, realm, uri, user, passwd)\n",
      "     |  \n",
      "     |  is_suburi(self, base, test)\n",
      "     |      Check if test is below base in a URI tree\n",
      "     |      \n",
      "     |      Both args must be URIs in reduced form.\n",
      "     |  \n",
      "     |  reduce_uri(self, uri, default_port=True)\n",
      "     |      Accept authority or URI and extract only the authority and path.\n",
      "    \n",
      "    class HTTPRedirectHandler(BaseHandler)\n",
      "     |  Methods defined here:\n",
      "     |  \n",
      "     |  http_error_301 = http_error_302(self, req, fp, code, msg, headers)\n",
      "     |  \n",
      "     |  http_error_302(self, req, fp, code, msg, headers)\n",
      "     |      # Implementation note: To avoid the server sending us into an\n",
      "     |      # infinite loop, the request object needs to track what URLs we\n",
      "     |      # have already seen.  Do this by adding a handler-specific\n",
      "     |      # attribute to the Request object.\n",
      "     |  \n",
      "     |  http_error_303 = http_error_302(self, req, fp, code, msg, headers)\n",
      "     |  \n",
      "     |  http_error_307 = http_error_302(self, req, fp, code, msg, headers)\n",
      "     |  \n",
      "     |  redirect_request(self, req, fp, code, msg, headers, newurl)\n",
      "     |      Return a Request or None in response to a redirect.\n",
      "     |      \n",
      "     |      This is called by the http_error_30x methods when a\n",
      "     |      redirection response is received.  If a redirection should\n",
      "     |      take place, return a new Request to allow http_error_30x to\n",
      "     |      perform the redirect.  Otherwise, raise HTTPError if no-one\n",
      "     |      else should try to handle this url.  Return None if you can't\n",
      "     |      but another Handler might.\n",
      "     |  \n",
      "     |  ----------------------------------------------------------------------\n",
      "     |  Data and other attributes defined here:\n",
      "     |  \n",
      "     |  inf_msg = 'The HTTP server returned a redirect error that w...n infini...\n",
      "     |  \n",
      "     |  max_redirections = 10\n",
      "     |  \n",
      "     |  max_repeats = 4\n",
      "     |  \n",
      "     |  ----------------------------------------------------------------------\n",
      "     |  Methods inherited from BaseHandler:\n",
      "     |  \n",
      "     |  __lt__(self, other)\n",
      "     |  \n",
      "     |  add_parent(self, parent)\n",
      "     |  \n",
      "     |  close(self)\n",
      "     |  \n",
      "     |  ----------------------------------------------------------------------\n",
      "     |  Data and other attributes inherited from BaseHandler:\n",
      "     |  \n",
      "     |  handler_order = 500\n",
      "    \n",
      "    class HTTPSHandler(AbstractHTTPHandler)\n",
      "     |  Method resolution order:\n",
      "     |      HTTPSHandler\n",
      "     |      AbstractHTTPHandler\n",
      "     |      BaseHandler\n",
      "     |  \n",
      "     |  Methods defined here:\n",
      "     |  \n",
      "     |  __init__(self, debuglevel=0, context=None)\n",
      "     |  \n",
      "     |  https_open(self, req)\n",
      "     |  \n",
      "     |  https_request = do_request_(self, request)\n",
      "     |  \n",
      "     |  ----------------------------------------------------------------------\n",
      "     |  Methods inherited from AbstractHTTPHandler:\n",
      "     |  \n",
      "     |  do_open(self, http_class, req, **http_conn_args)\n",
      "     |      Return an addinfourl object for the request, using http_class.\n",
      "     |      \n",
      "     |      http_class must implement the HTTPConnection API from httplib.\n",
      "     |      The addinfourl return value is a file-like object.  It also\n",
      "     |      has methods and attributes including:\n",
      "     |          - info(): return a mimetools.Message object for the headers\n",
      "     |          - geturl(): return the original request URL\n",
      "     |          - code: HTTP status code\n",
      "     |  \n",
      "     |  do_request_(self, request)\n",
      "     |  \n",
      "     |  set_http_debuglevel(self, level)\n",
      "     |  \n",
      "     |  ----------------------------------------------------------------------\n",
      "     |  Methods inherited from BaseHandler:\n",
      "     |  \n",
      "     |  __lt__(self, other)\n",
      "     |  \n",
      "     |  add_parent(self, parent)\n",
      "     |  \n",
      "     |  close(self)\n",
      "     |  \n",
      "     |  ----------------------------------------------------------------------\n",
      "     |  Data and other attributes inherited from BaseHandler:\n",
      "     |  \n",
      "     |  handler_order = 500\n",
      "    \n",
      "    class OpenerDirector\n",
      "     |  Methods defined here:\n",
      "     |  \n",
      "     |  __init__(self)\n",
      "     |  \n",
      "     |  add_handler(self, handler)\n",
      "     |  \n",
      "     |  close(self)\n",
      "     |  \n",
      "     |  error(self, proto, *args)\n",
      "     |  \n",
      "     |  open(self, fullurl, data=None, timeout=<object object>)\n",
      "    \n",
      "    class ProxyBasicAuthHandler(AbstractBasicAuthHandler, BaseHandler)\n",
      "     |  Method resolution order:\n",
      "     |      ProxyBasicAuthHandler\n",
      "     |      AbstractBasicAuthHandler\n",
      "     |      BaseHandler\n",
      "     |  \n",
      "     |  Methods defined here:\n",
      "     |  \n",
      "     |  http_error_407(self, req, fp, code, msg, headers)\n",
      "     |  \n",
      "     |  ----------------------------------------------------------------------\n",
      "     |  Data and other attributes defined here:\n",
      "     |  \n",
      "     |  auth_header = 'Proxy-authorization'\n",
      "     |  \n",
      "     |  ----------------------------------------------------------------------\n",
      "     |  Methods inherited from AbstractBasicAuthHandler:\n",
      "     |  \n",
      "     |  __init__(self, password_mgr=None)\n",
      "     |  \n",
      "     |  http_error_auth_reqed(self, authreq, host, req, headers)\n",
      "     |  \n",
      "     |  retry_http_basic_auth(self, host, req, realm)\n",
      "     |  \n",
      "     |  ----------------------------------------------------------------------\n",
      "     |  Data and other attributes inherited from AbstractBasicAuthHandler:\n",
      "     |  \n",
      "     |  rx = <_sre.SRE_Pattern object>\n",
      "     |  \n",
      "     |  ----------------------------------------------------------------------\n",
      "     |  Methods inherited from BaseHandler:\n",
      "     |  \n",
      "     |  __lt__(self, other)\n",
      "     |  \n",
      "     |  add_parent(self, parent)\n",
      "     |  \n",
      "     |  close(self)\n",
      "     |  \n",
      "     |  ----------------------------------------------------------------------\n",
      "     |  Data and other attributes inherited from BaseHandler:\n",
      "     |  \n",
      "     |  handler_order = 500\n",
      "    \n",
      "    class ProxyDigestAuthHandler(BaseHandler, AbstractDigestAuthHandler)\n",
      "     |  Method resolution order:\n",
      "     |      ProxyDigestAuthHandler\n",
      "     |      BaseHandler\n",
      "     |      AbstractDigestAuthHandler\n",
      "     |  \n",
      "     |  Methods defined here:\n",
      "     |  \n",
      "     |  http_error_407(self, req, fp, code, msg, headers)\n",
      "     |  \n",
      "     |  ----------------------------------------------------------------------\n",
      "     |  Data and other attributes defined here:\n",
      "     |  \n",
      "     |  auth_header = 'Proxy-Authorization'\n",
      "     |  \n",
      "     |  handler_order = 490\n",
      "     |  \n",
      "     |  ----------------------------------------------------------------------\n",
      "     |  Methods inherited from BaseHandler:\n",
      "     |  \n",
      "     |  __lt__(self, other)\n",
      "     |  \n",
      "     |  add_parent(self, parent)\n",
      "     |  \n",
      "     |  close(self)\n",
      "     |  \n",
      "     |  ----------------------------------------------------------------------\n",
      "     |  Methods inherited from AbstractDigestAuthHandler:\n",
      "     |  \n",
      "     |  __init__(self, passwd=None)\n",
      "     |  \n",
      "     |  get_algorithm_impls(self, algorithm)\n",
      "     |  \n",
      "     |  get_authorization(self, req, chal)\n",
      "     |  \n",
      "     |  get_cnonce(self, nonce)\n",
      "     |  \n",
      "     |  get_entity_digest(self, data, chal)\n",
      "     |  \n",
      "     |  http_error_auth_reqed(self, auth_header, host, req, headers)\n",
      "     |  \n",
      "     |  reset_retry_count(self)\n",
      "     |  \n",
      "     |  retry_http_digest_auth(self, req, auth)\n",
      "    \n",
      "    class ProxyHandler(BaseHandler)\n",
      "     |  Methods defined here:\n",
      "     |  \n",
      "     |  __init__(self, proxies=None)\n",
      "     |  \n",
      "     |  proxy_open(self, req, proxy, type)\n",
      "     |  \n",
      "     |  ----------------------------------------------------------------------\n",
      "     |  Data and other attributes defined here:\n",
      "     |  \n",
      "     |  handler_order = 100\n",
      "     |  \n",
      "     |  ----------------------------------------------------------------------\n",
      "     |  Methods inherited from BaseHandler:\n",
      "     |  \n",
      "     |  __lt__(self, other)\n",
      "     |  \n",
      "     |  add_parent(self, parent)\n",
      "     |  \n",
      "     |  close(self)\n",
      "    \n",
      "    class Request\n",
      "     |  Methods defined here:\n",
      "     |  \n",
      "     |  __getattr__(self, attr)\n",
      "     |  \n",
      "     |  __init__(self, url, data=None, headers={}, origin_req_host=None, unverifiable=False)\n",
      "     |  \n",
      "     |  add_data(self, data)\n",
      "     |  \n",
      "     |  add_header(self, key, val)\n",
      "     |  \n",
      "     |  add_unredirected_header(self, key, val)\n",
      "     |  \n",
      "     |  get_data(self)\n",
      "     |  \n",
      "     |  get_full_url(self)\n",
      "     |  \n",
      "     |  get_header(self, header_name, default=None)\n",
      "     |  \n",
      "     |  get_host(self)\n",
      "     |  \n",
      "     |  get_method(self)\n",
      "     |  \n",
      "     |  get_origin_req_host(self)\n",
      "     |  \n",
      "     |  get_selector(self)\n",
      "     |  \n",
      "     |  get_type(self)\n",
      "     |  \n",
      "     |  has_data(self)\n",
      "     |  \n",
      "     |  has_header(self, header_name)\n",
      "     |  \n",
      "     |  has_proxy(self)\n",
      "     |  \n",
      "     |  header_items(self)\n",
      "     |  \n",
      "     |  is_unverifiable(self)\n",
      "     |  \n",
      "     |  set_proxy(self, host, type)\n",
      "    \n",
      "    class URLError(exceptions.IOError)\n",
      "     |  Method resolution order:\n",
      "     |      URLError\n",
      "     |      exceptions.IOError\n",
      "     |      exceptions.EnvironmentError\n",
      "     |      exceptions.StandardError\n",
      "     |      exceptions.Exception\n",
      "     |      exceptions.BaseException\n",
      "     |      __builtin__.object\n",
      "     |  \n",
      "     |  Methods defined here:\n",
      "     |  \n",
      "     |  __init__(self, reason)\n",
      "     |      # URLError is a sub-type of IOError, but it doesn't share any of\n",
      "     |      # the implementation.  need to override __init__ and __str__.\n",
      "     |      # It sets self.args for compatibility with other EnvironmentError\n",
      "     |      # subclasses, but args doesn't have the typical format with errno in\n",
      "     |      # slot 0 and strerror in slot 1.  This may be better than nothing.\n",
      "     |  \n",
      "     |  __str__(self)\n",
      "     |  \n",
      "     |  ----------------------------------------------------------------------\n",
      "     |  Data descriptors defined here:\n",
      "     |  \n",
      "     |  __weakref__\n",
      "     |      list of weak references to the object (if defined)\n",
      "     |  \n",
      "     |  ----------------------------------------------------------------------\n",
      "     |  Data and other attributes inherited from exceptions.IOError:\n",
      "     |  \n",
      "     |  __new__ = <built-in method __new__ of type object>\n",
      "     |      T.__new__(S, ...) -> a new object with type S, a subtype of T\n",
      "     |  \n",
      "     |  ----------------------------------------------------------------------\n",
      "     |  Methods inherited from exceptions.EnvironmentError:\n",
      "     |  \n",
      "     |  __reduce__(...)\n",
      "     |  \n",
      "     |  ----------------------------------------------------------------------\n",
      "     |  Data descriptors inherited from exceptions.EnvironmentError:\n",
      "     |  \n",
      "     |  errno\n",
      "     |      exception errno\n",
      "     |  \n",
      "     |  filename\n",
      "     |      exception filename\n",
      "     |  \n",
      "     |  strerror\n",
      "     |      exception strerror\n",
      "     |  \n",
      "     |  ----------------------------------------------------------------------\n",
      "     |  Methods inherited from exceptions.BaseException:\n",
      "     |  \n",
      "     |  __delattr__(...)\n",
      "     |      x.__delattr__('name') <==> del x.name\n",
      "     |  \n",
      "     |  __getattribute__(...)\n",
      "     |      x.__getattribute__('name') <==> x.name\n",
      "     |  \n",
      "     |  __getitem__(...)\n",
      "     |      x.__getitem__(y) <==> x[y]\n",
      "     |  \n",
      "     |  __getslice__(...)\n",
      "     |      x.__getslice__(i, j) <==> x[i:j]\n",
      "     |      \n",
      "     |      Use of negative indices is not supported.\n",
      "     |  \n",
      "     |  __repr__(...)\n",
      "     |      x.__repr__() <==> repr(x)\n",
      "     |  \n",
      "     |  __setattr__(...)\n",
      "     |      x.__setattr__('name', value) <==> x.name = value\n",
      "     |  \n",
      "     |  __setstate__(...)\n",
      "     |  \n",
      "     |  __unicode__(...)\n",
      "     |  \n",
      "     |  ----------------------------------------------------------------------\n",
      "     |  Data descriptors inherited from exceptions.BaseException:\n",
      "     |  \n",
      "     |  __dict__\n",
      "     |  \n",
      "     |  args\n",
      "     |  \n",
      "     |  message\n",
      "    \n",
      "    class UnknownHandler(BaseHandler)\n",
      "     |  Methods defined here:\n",
      "     |  \n",
      "     |  unknown_open(self, req)\n",
      "     |  \n",
      "     |  ----------------------------------------------------------------------\n",
      "     |  Methods inherited from BaseHandler:\n",
      "     |  \n",
      "     |  __lt__(self, other)\n",
      "     |  \n",
      "     |  add_parent(self, parent)\n",
      "     |  \n",
      "     |  close(self)\n",
      "     |  \n",
      "     |  ----------------------------------------------------------------------\n",
      "     |  Data and other attributes inherited from BaseHandler:\n",
      "     |  \n",
      "     |  handler_order = 500\n",
      "\n",
      "FUNCTIONS\n",
      "    StringIO(...)\n",
      "        StringIO([s]) -- Return a StringIO-like stream for reading or writing\n",
      "    \n",
      "    build_opener(*handlers)\n",
      "        Create an opener object from a list of handlers.\n",
      "        \n",
      "        The opener will use several default handlers, including support\n",
      "        for HTTP, FTP and when applicable, HTTPS.\n",
      "        \n",
      "        If any of the handlers passed as arguments are subclasses of the\n",
      "        default handlers, the default handlers will not be used.\n",
      "    \n",
      "    install_opener(opener)\n",
      "    \n",
      "    parse_http_list(s)\n",
      "        Parse lists as described by RFC 2068 Section 2.\n",
      "        \n",
      "        In particular, parse comma-separated lists where the elements of\n",
      "        the list may include quoted-strings.  A quoted-string could\n",
      "        contain a comma.  A non-quoted string could have quotes in the\n",
      "        middle.  Neither commas nor quotes count if they are escaped.\n",
      "        Only double-quotes count, not single-quotes.\n",
      "    \n",
      "    parse_keqv_list(l)\n",
      "        Parse list of key=value strings where keys are not duplicated.\n",
      "    \n",
      "    randombytes(n)\n",
      "        Return n random bytes.\n",
      "    \n",
      "    request_host(request)\n",
      "        Return request-host, as defined by RFC 2965.\n",
      "        \n",
      "        Variation from RFC: returned value is lowercased, for convenient\n",
      "        comparison.\n",
      "    \n",
      "    urlopen(url, data=None, timeout=<object object>, cafile=None, capath=None, cadefault=False, context=None)\n",
      "\n",
      "DATA\n",
      "    __version__ = '2.7'\n",
      "\n",
      "VERSION\n",
      "    2.7\n",
      "\n",
      "\n",
      "None\n"
     ]
    }
   ],
   "source": [
    "print help(urllib2)"
   ]
  },
  {
   "cell_type": "markdown",
   "metadata": {
    "collapsed": true
   },
   "source": [
    "# 文件处理实践"
   ]
  },
  {
   "cell_type": "markdown",
   "metadata": {},
   "source": [
    "## 读"
   ]
  },
  {
   "cell_type": "code",
   "execution_count": 62,
   "metadata": {},
   "outputs": [
    {
     "ename": "IOError",
     "evalue": "[Errno 2] No such file or directory: 'data/example_not_exist.txt'",
     "output_type": "error",
     "traceback": [
      "\u001b[0;31m---------------------------------------------------------------------------\u001b[0m",
      "\u001b[0;31mIOError\u001b[0m                                   Traceback (most recent call last)",
      "\u001b[0;32m<ipython-input-62-870c22b6527d>\u001b[0m in \u001b[0;36m<module>\u001b[0;34m()\u001b[0m\n\u001b[0;32m----> 1\u001b[0;31m \u001b[0mfp\u001b[0m \u001b[0;34m=\u001b[0m \u001b[0mopen\u001b[0m\u001b[0;34m(\u001b[0m\u001b[0;34m'data/example_not_exist.txt'\u001b[0m\u001b[0;34m,\u001b[0m \u001b[0;34m'r'\u001b[0m\u001b[0;34m)\u001b[0m\u001b[0;34m\u001b[0m\u001b[0m\n\u001b[0m",
      "\u001b[0;31mIOError\u001b[0m: [Errno 2] No such file or directory: 'data/example_not_exist.txt'"
     ]
    }
   ],
   "source": [
    "fp = open('data/example_not_exist.txt', 'r')"
   ]
  },
  {
   "cell_type": "code",
   "execution_count": 63,
   "metadata": {},
   "outputs": [
    {
     "name": "stdout",
     "output_type": "stream",
     "text": [
      "data/example.txt\n"
     ]
    }
   ],
   "source": [
    "fp = open('data/example.txt', 'r')\n",
    "print fp.name\n",
    "fp.close()"
   ]
  },
  {
   "cell_type": "code",
   "execution_count": 64,
   "metadata": {},
   "outputs": [
    {
     "name": "stdout",
     "output_type": "stream",
     "text": [
      "From fairest creatures we desire increase, \n",
      "That thereby beauty's rose might never die, \n",
      "But as the riper should by time decease, \n"
     ]
    }
   ],
   "source": [
    "fp = open('data/example.txt', 'r')\n",
    "print fp.read()\n",
    "fp.close()"
   ]
  },
  {
   "cell_type": "code",
   "execution_count": 65,
   "metadata": {},
   "outputs": [
    {
     "name": "stdout",
     "output_type": "stream",
     "text": [
      "From faire\n"
     ]
    }
   ],
   "source": [
    "fp = open('data/example.txt', 'r')\n",
    "print fp.read(10)\n",
    "fp.close()"
   ]
  },
  {
   "cell_type": "code",
   "execution_count": 66,
   "metadata": {},
   "outputs": [
    {
     "name": "stdout",
     "output_type": "stream",
     "text": [
      "From fairest creatures we desire increase, \n",
      "\n"
     ]
    }
   ],
   "source": [
    "fp = open('data/example.txt', 'r')\n",
    "print fp.readline()\n",
    "fp.close()"
   ]
  },
  {
   "cell_type": "code",
   "execution_count": 67,
   "metadata": {},
   "outputs": [
    {
     "name": "stdout",
     "output_type": "stream",
     "text": [
      "['From fairest creatures we desire increase, \\n', \"That thereby beauty's rose might never die, \\n\", 'But as the riper should by time decease, ']\n"
     ]
    }
   ],
   "source": [
    "fp = open('data/example.txt', 'r')\n",
    "print fp.readlines()\n",
    "fp.close()"
   ]
  },
  {
   "cell_type": "markdown",
   "metadata": {},
   "source": [
    "## 二进制"
   ]
  },
  {
   "cell_type": "code",
   "execution_count": 68,
   "metadata": {},
   "outputs": [
    {
     "name": "stdout",
     "output_type": "stream",
     "text": [
      "����\u0000\u0010JFIF\u0000\u0001\u0001\u0001\u0000H\u0000H\u0000\u0000��\u0000C\u0000\f",
      "\b\t\n",
      "\n"
     ]
    }
   ],
   "source": [
    "fp = open('data/example.jpeg', 'r')\n",
    "print fp.readline()\n",
    "fp.close()"
   ]
  },
  {
   "cell_type": "code",
   "execution_count": 69,
   "metadata": {},
   "outputs": [
    {
     "name": "stdout",
     "output_type": "stream",
     "text": [
      "����\u0000\u0010JFIF\n"
     ]
    }
   ],
   "source": [
    "fp = open('data/example.jpeg', 'rb')\n",
    "print fp.read(10)\n",
    "fp.close()"
   ]
  },
  {
   "cell_type": "code",
   "execution_count": 70,
   "metadata": {},
   "outputs": [
    {
     "name": "stdout",
     "output_type": "stream",
     "text": [
      "�й�\n"
     ]
    }
   ],
   "source": [
    "fp = open('data/example_codecs.txt', 'r')\n",
    "print fp.readline()\n",
    "fp.close()"
   ]
  },
  {
   "cell_type": "code",
   "execution_count": 71,
   "metadata": {},
   "outputs": [
    {
     "name": "stdout",
     "output_type": "stream",
     "text": [
      "中国\n"
     ]
    }
   ],
   "source": [
    "fp = open('data/example_codecs.txt', 'r')\n",
    "x = fp.readline()\n",
    "x = x.decode('gbk')\n",
    "print x\n",
    "fp.close()"
   ]
  },
  {
   "cell_type": "code",
   "execution_count": 72,
   "metadata": {},
   "outputs": [
    {
     "name": "stdout",
     "output_type": "stream",
     "text": [
      "中国\n"
     ]
    }
   ],
   "source": [
    "import codecs\n",
    "fp = codecs.open('data/example_codecs.txt', 'r', encoding='gbk')\n",
    "x = fp.readline()\n",
    "print x\n",
    "fp.close()"
   ]
  },
  {
   "cell_type": "markdown",
   "metadata": {},
   "source": [
    "## 写"
   ]
  },
  {
   "cell_type": "code",
   "execution_count": 73,
   "metadata": {},
   "outputs": [
    {
     "name": "stdout",
     "output_type": "stream",
     "text": [
      "hello\n"
     ]
    }
   ],
   "source": [
    "fp = open('data/example_out.txt', 'w+')\n",
    "fp.write('hello')\n",
    "fp.seek(0)\n",
    "print fp.read()\n",
    "fp.close()"
   ]
  },
  {
   "cell_type": "code",
   "execution_count": 74,
   "metadata": {},
   "outputs": [
    {
     "name": "stdout",
     "output_type": "stream",
     "text": [
      "hello\n",
      "world\n",
      "\n"
     ]
    }
   ],
   "source": [
    "fp = open('data/example_out.txt', 'w+')\n",
    "fp.writelines(['hello\\n', 'world\\n'])\n",
    "fp.seek(0)\n",
    "print fp.read()\n",
    "fp.close()"
   ]
  },
  {
   "cell_type": "code",
   "execution_count": null,
   "metadata": {
    "collapsed": true
   },
   "outputs": [],
   "source": []
  }
 ],
 "metadata": {
  "kernelspec": {
   "display_name": "Python 2",
   "language": "python",
   "name": "python2"
  },
  "language_info": {
   "codemirror_mode": {
    "name": "ipython",
    "version": 2
   },
   "file_extension": ".py",
   "mimetype": "text/x-python",
   "name": "python",
   "nbconvert_exporter": "python",
   "pygments_lexer": "ipython2",
   "version": "2.7.13"
  }
 },
 "nbformat": 4,
 "nbformat_minor": 2
}
